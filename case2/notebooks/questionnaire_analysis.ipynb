{
 "cells": [
  {
   "cell_type": "markdown",
   "id": "750d42f9",
   "metadata": {},
   "source": [
    "# Questionnaire Analysis\n",
    "In this notebook we will see the questionnaire data and try to find relevant ways to include this in the models."
   ]
  },
  {
   "cell_type": "code",
   "execution_count": 166,
   "id": "cf1821bc",
   "metadata": {},
   "outputs": [],
   "source": [
    "import pandas as pd\n",
    "import numpy as np\n",
    "import matplotlib as mpl\n",
    "import matplotlib.pyplot as plt\n",
    "from pathlib import Path\n",
    "\n",
    "def setup_mpl():\n",
    "    mpl.rcParams['font.family'] = 'Times New Roman'\n",
    "    mpl.rcParams['lines.linewidth'] = 2\n",
    "    return None\n",
    "setup_mpl()"
   ]
  },
  {
   "cell_type": "code",
   "execution_count": 167,
   "id": "01da9bbd",
   "metadata": {},
   "outputs": [],
   "source": [
    "columns = ['Unnamed: 0', 'Parti']\n",
    "df = pd.DataFrame()\n",
    "for d in Path('../data/raw/dataset_extended').glob('D1_*'):\n",
    "    for id_ in d.glob('ID_*'):\n",
    "        for round_ in id_.glob('round_*'):\n",
    "            for phase in round_.glob('phase*'):\n",
    "                for file in phase.glob('*.csv'):\n",
    "                    if file.name in ('response.csv',):\n",
    "                        if df.empty:\n",
    "                            df = pd.read_csv(file, index_col=None)\n",
    "                            try:\n",
    "                                df.participant_ID\n",
    "                            except AttributeError:\n",
    "                                df.rename(columns={'particpant_ID':'participant_ID'}, inplace=True)\n",
    "                            df['cohort'] = d.name\n",
    "                            df['phase'] = phase.name\n",
    "                            df['round'] = round_.name\n",
    "                            df['id'] = id_.name\n",
    "                        else:\n",
    "                            temp_df = pd.read_csv(file, index_col=None)\n",
    "                            try:\n",
    "                                temp_df.participant_ID\n",
    "                            except AttributeError:\n",
    "                                temp_df.rename(columns={'particpant_ID':'participant_ID'}, inplace=True)\n",
    "                            temp_df['cohort'] = d.name\n",
    "                            temp_df['phase'] = phase.name\n",
    "                            temp_df['round'] = round_.name\n",
    "                            temp_df['id'] = id_.name\n",
    "                            df = pd.concat([df, temp_df], ignore_index=True)\n",
    "df = df.drop('Unnamed: 0', axis=1)"
   ]
  },
  {
   "cell_type": "code",
   "execution_count": 168,
   "id": "eb08010a",
   "metadata": {},
   "outputs": [
    {
     "data": {
      "text/plain": [
       "[1.0,\n",
       " 2.0,\n",
       " 3.0,\n",
       " 4.0,\n",
       " 5.0,\n",
       " 6.0,\n",
       " 7.0,\n",
       " 8.0,\n",
       " 15.0,\n",
       " 16.0,\n",
       " 17.0,\n",
       " 18.0,\n",
       " 19.0,\n",
       " 20.0,\n",
       " 21.0,\n",
       " 22.0,\n",
       " 23.0,\n",
       " 24.0,\n",
       " 25.0,\n",
       " 26.0]"
      ]
     },
     "execution_count": 168,
     "metadata": {},
     "output_type": "execute_result"
    }
   ],
   "source": [
    "df.head()\n",
    "sorted(df.participant_ID.unique()) #20 observations... they lied D:"
   ]
  },
  {
   "cell_type": "markdown",
   "id": "e3eb40a6",
   "metadata": {},
   "source": [
    "Lets check histogramplots of all the answers!"
   ]
  },
  {
   "cell_type": "code",
   "execution_count": 169,
   "id": "06e1cc0d",
   "metadata": {},
   "outputs": [],
   "source": [
    "plotted_columns = ['upset', 'hostile', 'alert', 'ashamed', 'inspired', 'nervous', \n",
    "                   'determined', 'attentive', 'afraid', 'active', 'frustrated', \n",
    "                  'difficulty']"
   ]
  },
  {
   "cell_type": "code",
   "execution_count": 170,
   "id": "0b26b0ee",
   "metadata": {},
   "outputs": [
    {
     "data": {
      "image/png": "[encoded data removed]",
      "text/plain": [
       "<Figure size 504x504 with 12 Axes>"
      ]
     },
     "metadata": {
      "needs_background": "light"
     },
     "output_type": "display_data"
    }
   ],
   "source": [
    "fig, ax = plt.subplots(4,3, figsize=(7,7))\n",
    "row_idx = -1\n",
    "for idx, question in enumerate(plotted_columns):\n",
    "    if idx%3==0:\n",
    "        col_idx = 0\n",
    "        row_idx += 1\n",
    "    for shift_idx, phase in enumerate(['phase1', 'phase2', 'phase3']):\n",
    "        if shift_idx == 0:\n",
    "            shift = -0.2\n",
    "            color = 'purple'\n",
    "            label = 'Phase 1'\n",
    "        if shift_idx == 1:\n",
    "            shift = 0\n",
    "            color = 'green'\n",
    "            label = 'Phase 2'\n",
    "        if shift_idx == 2:\n",
    "            shift = 0.2\n",
    "            color = 'blue'\n",
    "            label = 'Phase 3'\n",
    "        numbers = [1,2,3,4,5]\n",
    "        if idx>9:\n",
    "            numbers = [0,1,2,3,4,5,6,7,8,9,10]\n",
    "        for number in numbers:\n",
    "            if idx == 0 and number == 5:\n",
    "                ax[row_idx, col_idx].bar(number+shift, sum(df[df['phase']==phase][question]==number), width = 0.2, color=color, label=label, alpha=0.4)\n",
    "            elif idx == 11:\n",
    "                if phase == 'phase1' or phase == 'phase3':\n",
    "                    continue\n",
    "                ax[row_idx, col_idx].bar(number, sum(df[df['phase']=='phase2'][question]==number), width = 0.2, color='green', alpha=0.4)\n",
    "\n",
    "            else:\n",
    "                ax[row_idx, col_idx].bar(number+shift, sum(df[df['phase']==phase][question]==number), width = 0.2, color=color, alpha=0.4)\n",
    "            ax[row_idx, col_idx].set_title(question)\n",
    "    col_idx += 1\n",
    "fig.legend(loc='lower center', ncol=3, bbox_to_anchor=(0.5, -0.05))\n",
    "fig.tight_layout()\n",
    "fig.savefig('bar_plot.png', bbox_inches='tight')\n",
    "plt.show()\n"
   ]
  },
  {
   "cell_type": "markdown",
   "id": "27d009ce",
   "metadata": {},
   "source": [
    "Man kan evt smide gennemsnit for hver phase ind også, så vi kan se, at grøn er different\n",
    "\n",
    "Please note that there are 4 rounds so 4x26 counts in each phase ;)"
   ]
  },
  {
   "cell_type": "code",
   "execution_count": 171,
   "id": "a1bb90a0",
   "metadata": {},
   "outputs": [],
   "source": [
    "roles = pd.DataFrame(columns = ['Unnamed: 0', 'ID', 'Team', 'Puzzler', 'cohort'])\n",
    "for d in Path('../data/raw/dataset_extended').glob('D1_*'):\n",
    "    file = '/team_info.csv'\n",
    "    if roles.empty:\n",
    "        roles = pd.read_csv(str(d)+file, index_col=None)\n",
    "        roles['cohort'] = d.name\n",
    "    else:\n",
    "        temp_roles = pd.read_csv(str(d)+file, index_col=None)\n",
    "        temp_roles['cohort'] = d.name\n",
    "        roles = pd.concat([roles, temp_roles])"
   ]
  },
  {
   "cell_type": "code",
   "execution_count": 172,
   "id": "b78978c8",
   "metadata": {
    "scrolled": false
   },
   "outputs": [
    {
     "data": {
      "text/html": [
       "<div>\n",
       "<style scoped>\n",
       "    .dataframe tbody tr th:only-of-type {\n",
       "        vertical-align: middle;\n",
       "    }\n",
       "\n",
       "    .dataframe tbody tr th {\n",
       "        vertical-align: top;\n",
       "    }\n",
       "\n",
       "    .dataframe thead th {\n",
       "        text-align: right;\n",
       "    }\n",
       "</style>\n",
       "<table border=\"1\" class=\"dataframe\">\n",
       "  <thead>\n",
       "    <tr style=\"text-align: right;\">\n",
       "      <th></th>\n",
       "      <th>participant_ID</th>\n",
       "      <th>puzzler</th>\n",
       "      <th>team_ID</th>\n",
       "      <th>E4_nr</th>\n",
       "      <th>upset</th>\n",
       "      <th>hostile</th>\n",
       "      <th>alert</th>\n",
       "      <th>ashamed</th>\n",
       "      <th>inspired</th>\n",
       "      <th>nervous</th>\n",
       "      <th>...</th>\n",
       "      <th>cohort</th>\n",
       "      <th>phase</th>\n",
       "      <th>round</th>\n",
       "      <th>id</th>\n",
       "      <th>difficulty</th>\n",
       "      <th>parent</th>\n",
       "      <th>Unnamed: 0</th>\n",
       "      <th>ID</th>\n",
       "      <th>Team</th>\n",
       "      <th>Puzzler</th>\n",
       "    </tr>\n",
       "  </thead>\n",
       "  <tbody>\n",
       "    <tr>\n",
       "      <th>0</th>\n",
       "      <td>2.0</td>\n",
       "      <td>1.0</td>\n",
       "      <td>1.0</td>\n",
       "      <td>A0306B</td>\n",
       "      <td>1.0</td>\n",
       "      <td>1.0</td>\n",
       "      <td>3.0</td>\n",
       "      <td>1.0</td>\n",
       "      <td>3.0</td>\n",
       "      <td>2.0</td>\n",
       "      <td>...</td>\n",
       "      <td>D1_1</td>\n",
       "      <td>phase3</td>\n",
       "      <td>round_1</td>\n",
       "      <td>ID_8</td>\n",
       "      <td>NaN</td>\n",
       "      <td>NaN</td>\n",
       "      <td>7</td>\n",
       "      <td>ID_8</td>\n",
       "      <td>1.0</td>\n",
       "      <td>1.0</td>\n",
       "    </tr>\n",
       "    <tr>\n",
       "      <th>1</th>\n",
       "      <td>2.0</td>\n",
       "      <td>1.0</td>\n",
       "      <td>1.0</td>\n",
       "      <td>A0306B</td>\n",
       "      <td>1.0</td>\n",
       "      <td>1.0</td>\n",
       "      <td>4.0</td>\n",
       "      <td>1.0</td>\n",
       "      <td>4.0</td>\n",
       "      <td>2.0</td>\n",
       "      <td>...</td>\n",
       "      <td>D1_1</td>\n",
       "      <td>phase2</td>\n",
       "      <td>round_1</td>\n",
       "      <td>ID_8</td>\n",
       "      <td>2.0</td>\n",
       "      <td>NaN</td>\n",
       "      <td>7</td>\n",
       "      <td>ID_8</td>\n",
       "      <td>1.0</td>\n",
       "      <td>1.0</td>\n",
       "    </tr>\n",
       "    <tr>\n",
       "      <th>2</th>\n",
       "      <td>2.0</td>\n",
       "      <td>1.0</td>\n",
       "      <td>1.0</td>\n",
       "      <td>A0306B</td>\n",
       "      <td>1.0</td>\n",
       "      <td>1.0</td>\n",
       "      <td>4.0</td>\n",
       "      <td>1.0</td>\n",
       "      <td>3.0</td>\n",
       "      <td>3.0</td>\n",
       "      <td>...</td>\n",
       "      <td>D1_1</td>\n",
       "      <td>phase1</td>\n",
       "      <td>round_1</td>\n",
       "      <td>ID_8</td>\n",
       "      <td>NaN</td>\n",
       "      <td>NaN</td>\n",
       "      <td>7</td>\n",
       "      <td>ID_8</td>\n",
       "      <td>1.0</td>\n",
       "      <td>1.0</td>\n",
       "    </tr>\n",
       "    <tr>\n",
       "      <th>3</th>\n",
       "      <td>2.0</td>\n",
       "      <td>1.0</td>\n",
       "      <td>1.0</td>\n",
       "      <td>A0306B</td>\n",
       "      <td>2.0</td>\n",
       "      <td>1.0</td>\n",
       "      <td>2.0</td>\n",
       "      <td>3.0</td>\n",
       "      <td>2.0</td>\n",
       "      <td>1.0</td>\n",
       "      <td>...</td>\n",
       "      <td>D1_1</td>\n",
       "      <td>phase3</td>\n",
       "      <td>round_4</td>\n",
       "      <td>ID_8</td>\n",
       "      <td>NaN</td>\n",
       "      <td>NaN</td>\n",
       "      <td>7</td>\n",
       "      <td>ID_8</td>\n",
       "      <td>1.0</td>\n",
       "      <td>1.0</td>\n",
       "    </tr>\n",
       "    <tr>\n",
       "      <th>4</th>\n",
       "      <td>2.0</td>\n",
       "      <td>1.0</td>\n",
       "      <td>1.0</td>\n",
       "      <td>A0306B</td>\n",
       "      <td>2.0</td>\n",
       "      <td>1.0</td>\n",
       "      <td>2.0</td>\n",
       "      <td>3.0</td>\n",
       "      <td>2.0</td>\n",
       "      <td>2.0</td>\n",
       "      <td>...</td>\n",
       "      <td>D1_1</td>\n",
       "      <td>phase2</td>\n",
       "      <td>round_4</td>\n",
       "      <td>ID_8</td>\n",
       "      <td>8.0</td>\n",
       "      <td>NaN</td>\n",
       "      <td>7</td>\n",
       "      <td>ID_8</td>\n",
       "      <td>1.0</td>\n",
       "      <td>1.0</td>\n",
       "    </tr>\n",
       "  </tbody>\n",
       "</table>\n",
       "<p>5 rows × 25 columns</p>\n",
       "</div>"
      ],
      "text/plain": [
       "   participant_ID  puzzler  team_ID   E4_nr  upset  hostile  alert  ashamed  \\\n",
       "0             2.0      1.0      1.0  A0306B    1.0      1.0    3.0      1.0   \n",
       "1             2.0      1.0      1.0  A0306B    1.0      1.0    4.0      1.0   \n",
       "2             2.0      1.0      1.0  A0306B    1.0      1.0    4.0      1.0   \n",
       "3             2.0      1.0      1.0  A0306B    2.0      1.0    2.0      3.0   \n",
       "4             2.0      1.0      1.0  A0306B    2.0      1.0    2.0      3.0   \n",
       "\n",
       "   inspired  nervous  ...  cohort   phase    round    id  difficulty parent  \\\n",
       "0       3.0      2.0  ...    D1_1  phase3  round_1  ID_8         NaN    NaN   \n",
       "1       4.0      2.0  ...    D1_1  phase2  round_1  ID_8         2.0    NaN   \n",
       "2       3.0      3.0  ...    D1_1  phase1  round_1  ID_8         NaN    NaN   \n",
       "3       2.0      1.0  ...    D1_1  phase3  round_4  ID_8         NaN    NaN   \n",
       "4       2.0      2.0  ...    D1_1  phase2  round_4  ID_8         8.0    NaN   \n",
       "\n",
       "  Unnamed: 0    ID Team  Puzzler  \n",
       "0          7  ID_8  1.0      1.0  \n",
       "1          7  ID_8  1.0      1.0  \n",
       "2          7  ID_8  1.0      1.0  \n",
       "3          7  ID_8  1.0      1.0  \n",
       "4          7  ID_8  1.0      1.0  \n",
       "\n",
       "[5 rows x 25 columns]"
      ]
     },
     "execution_count": 172,
     "metadata": {},
     "output_type": "execute_result"
    }
   ],
   "source": [
    "df_roles = df.merge(roles, left_on=['cohort','id'], right_on = ['cohort','ID'], how='inner')\n",
    "df_roles.head()"
   ]
  },
  {
   "cell_type": "code",
   "execution_count": 173,
   "id": "a0fd9a3d",
   "metadata": {},
   "outputs": [],
   "source": [
    "p1p1 = df_roles[((df_roles.phase=='phase1') & (df_roles.Puzzler==1))]\n",
    "p1p0 = df_roles[((df_roles.phase=='phase1') & (df_roles.Puzzler==0))]\n",
    "p2p1 = df_roles[((df_roles.phase=='phase2') & (df_roles.Puzzler==1))]\n",
    "p2p0 = df_roles[((df_roles.phase=='phase2') & (df_roles.Puzzler==0))]\n",
    "p3p1 = df_roles[((df_roles.phase=='phase3') & (df_roles.Puzzler==1))]\n",
    "p3p0 = df_roles[((df_roles.phase=='phase3') & (df_roles.Puzzler==0))]"
   ]
  },
  {
   "cell_type": "code",
   "execution_count": 174,
   "id": "1a7afd59",
   "metadata": {},
   "outputs": [],
   "source": [
    "matrix = df_roles.drop(['team_ID','puzzler','E4_nr','id','cohort','difficulty','parent','Unnamed: 0','Team','ID','Puzzler'], axis=1)"
   ]
  },
  {
   "cell_type": "code",
   "execution_count": 175,
   "id": "9d3c0852",
   "metadata": {},
   "outputs": [],
   "source": [
    "#matrix.loc[matrix['difficulty'].isnull(),'difficulty'] = 0\n",
    "matrix_for_PCA = matrix.groupby(['phase','participant_ID']).median()\n",
    "\n",
    "\n",
    "temp = matrix_for_PCA.reset_index()\n",
    "#Create colormap based on phase\n",
    "cmap = np.empty(len(temp), dtype=\"<U10\")\n",
    "cmap[list(temp[temp.phase=='phase1'].index)] = 'purple'\n",
    "cmap[list(temp[temp.phase=='phase2'].index)] = 'green'\n",
    "cmap[list(temp[temp.phase=='phase3'].index)] = 'blue'"
   ]
  },
  {
   "cell_type": "code",
   "execution_count": 176,
   "id": "4a1bdad3",
   "metadata": {},
   "outputs": [],
   "source": [
    "from sklearn.decomposition import PCA\n",
    "pca = PCA(n_components=2)\n",
    "pca.fit(matrix_for_PCA)\n",
    "matrix_plot = pca.transform(matrix_for_PCA)"
   ]
  },
  {
   "cell_type": "code",
   "execution_count": 177,
   "id": "584f298a",
   "metadata": {},
   "outputs": [
    {
     "data": {
      "image/png": "[encoded data removed]",
      "text/plain": [
       "<Figure size 720x720 with 1 Axes>"
      ]
     },
     "metadata": {
      "needs_background": "light"
     },
     "output_type": "display_data"
    }
   ],
   "source": [
    "fig, ax = plt.subplots(figsize=(10,10))\n",
    "p1, p2, p3 = False, False, False\n",
    "for i, color in enumerate(cmap):\n",
    "    if color == 'purple':\n",
    "        label = 'Phase 1'\n",
    "    elif color == 'green':\n",
    "        label = 'Phase 2'\n",
    "    elif color == 'blue':\n",
    "        label = 'Phase 3'\n",
    "    if p1 == False and label == 'Phase 1':\n",
    "        p1 = True\n",
    "        plt.scatter(matrix_plot[i,0], matrix_plot[i,1], color = color, label=label, alpha=0.4)\n",
    "    elif p2 == False and label == 'Phase 2':\n",
    "        p2 = True\n",
    "        plt.scatter(matrix_plot[i,0], matrix_plot[i,1], color = color, label=label, alpha=0.4)\n",
    "    elif p3 == False and label == 'Phase 3':\n",
    "        p3 = True\n",
    "        plt.scatter(matrix_plot[i,0], matrix_plot[i,1], color = color, label=label, alpha=0.4)\n",
    "    else:\n",
    "        plt.scatter(matrix_plot[i,0], matrix_plot[i,1], color = color, alpha=0.4)\n",
    "fig.legend(loc='lower center', ncol=3, bbox_to_anchor=(0.5, 0.05))\n",
    "plt.show()"
   ]
  },
  {
   "cell_type": "markdown",
   "id": "b8b81d33",
   "metadata": {},
   "source": [
    "Looks like we can somehow separate Phase 2 from the other phases. Lets try a k-medoids clustering on the full data (high dimensional). Firsty we try 3-medoids clustering, however, it might be beneficial to see phase 1 and 3 as one cluster given the plot above..\n",
    "\n",
    "Why medoids? Well it is ordinal data and taking the medoids instead of the centroids will preserve our scales so we can better interpret the results when depicting the prototypes!"
   ]
  },
  {
   "cell_type": "code",
   "execution_count": 178,
   "id": "44e11545",
   "metadata": {},
   "outputs": [
    {
     "data": {
      "image/png": "[encoded data removed]",
      "text/plain": [
       "<Figure size 504x504 with 1 Axes>"
      ]
     },
     "metadata": {
      "needs_background": "light"
     },
     "output_type": "display_data"
    }
   ],
   "source": [
    "from sklearn.cluster import KMeans\n",
    "from sklearn_extra.cluster import KMedoids \n",
    "means3 = KMedoids(n_clusters = 3, random_state = 0)\n",
    "\n",
    "X = np.array(matrix_for_PCA, dtype=float)\n",
    "means3.fit(X)\n",
    "temp = np.array(means3.labels_)\n",
    "markers = np.empty(len(temp), dtype='<U10')\n",
    "markers[np.argwhere(temp==0)] = '*'\n",
    "markers[np.argwhere(temp==1)] = '^'\n",
    "markers[np.argwhere(temp==2)] = 'o'\n",
    "\n",
    "#Now we plot the same PCA plot but with types as kmeans labels:\n",
    "fig, ax = plt.subplots(figsize=(7,7))\n",
    "p1, p2, p3 = False, False, False\n",
    "for i, color in enumerate(cmap):\n",
    "    if color == 'purple':\n",
    "        label = 'Phase 1'\n",
    "    elif color == 'green':\n",
    "        label = 'Phase 2'\n",
    "    elif color == 'blue':\n",
    "        label = 'Phase 3'\n",
    "    if p1 == False and label == 'Phase 1':\n",
    "        p1 = True\n",
    "        plt.scatter(matrix_plot[i,0], matrix_plot[i,1], color = color, label=label, alpha=0.4, marker=markers[i])\n",
    "    elif p2 == False and label == 'Phase 2':\n",
    "        p2 = True\n",
    "        plt.scatter(matrix_plot[i,0], matrix_plot[i,1], color = color, label=label, alpha=0.4, marker=markers[i])\n",
    "    elif p3 == False and label == 'Phase 3':\n",
    "        p3 = True\n",
    "        plt.scatter(matrix_plot[i,0], matrix_plot[i,1], color = color, label=label, alpha=0.4, marker=markers[i])\n",
    "    else:\n",
    "        plt.scatter(matrix_plot[i,0], matrix_plot[i,1], color = color, alpha=0.4, marker=markers[i])\n",
    "fig.legend(loc='lower center', ncol=3, bbox_to_anchor=(0.5, 0))\n",
    "fig.savefig('k-means.png', bbox_inches='tight')\n",
    "plt.show()"
   ]
  },
  {
   "cell_type": "code",
   "execution_count": 179,
   "id": "93ea6e8a",
   "metadata": {},
   "outputs": [],
   "source": [
    "#Maybe we'll do some AA?\n",
    "from py_pcha import PCHA\n",
    "X = np.array(matrix_for_PCA)\n",
    "\n",
    "XC, S, C, SSE, varexpl = PCHA(X.T, noc=3, delta=0.1)\n",
    "\n",
    "#Do PCA to 2-D... We don't lose information as the simplex is on a plane already (nice)\n",
    "pca = PCA(n_components=2)\n",
    "pca.fit(S.T)\n",
    "matrix_plot = pca.transform(S.T)"
   ]
  },
  {
   "cell_type": "code",
   "execution_count": 180,
   "id": "3b64c565",
   "metadata": {
    "scrolled": false
   },
   "outputs": [
    {
     "data": {
      "image/png": "[encoded data removed]",
      "text/plain": [
       "<Figure size 504x504 with 1 Axes>"
      ]
     },
     "metadata": {
      "needs_background": "light"
     },
     "output_type": "display_data"
    }
   ],
   "source": [
    "fig, ax = plt.subplots(figsize=(7,7))\n",
    "p1, p2, p3 = False, False, False\n",
    "for i, color in enumerate(cmap):\n",
    "    if color == 'purple':\n",
    "        label = 'Phase 1'\n",
    "    elif color == 'green':\n",
    "        label = 'Phase 2'\n",
    "    elif color == 'blue':\n",
    "        label = 'Phase 3'\n",
    "    if p1 == False and label == 'Phase 1':\n",
    "        p1 = True\n",
    "        plt.scatter(matrix_plot[i,0], matrix_plot[i,1], color = color, label=label, alpha=0.4)\n",
    "    elif p2 == False and label == 'Phase 2':\n",
    "        p2 = True\n",
    "        plt.scatter(matrix_plot[i,0], matrix_plot[i,1], color = color, label=label, alpha=0.4)\n",
    "    elif p3 == False and label == 'Phase 3':\n",
    "        p3 = True\n",
    "        plt.scatter(matrix_plot[i,0], matrix_plot[i,1], color = color, label=label, alpha=0.4)\n",
    "    else:\n",
    "        plt.scatter(matrix_plot[i,0], matrix_plot[i,1], color = color, alpha=0.4)\n",
    "#plt.scatter(temp[:,0],temp[:,1], color='red')\n",
    "fig.legend(loc='lower center', ncol=3, bbox_to_anchor=(0.5, 0))\n",
    "plt.show()"
   ]
  },
  {
   "cell_type": "code",
   "execution_count": 181,
   "id": "908f7d81",
   "metadata": {},
   "outputs": [
    {
     "data": {
      "image/png": "[encoded data removed]",
      "text/plain": [
       "<Figure size 504x504 with 1 Axes>"
      ]
     },
     "metadata": {
      "needs_background": "light"
     },
     "output_type": "display_data"
    }
   ],
   "source": [
    "\n",
    "from sklearn.cluster import KMeans\n",
    "\n",
    "means3 = KMeans(n_clusters = 3, random_state = 0)\n",
    "\n",
    "X = np.array(matrix_for_PCA, dtype=float)\n",
    "means3.fit(X)\n",
    "temp = S.T.argmax(1)\n",
    "markers = np.empty(len(temp), dtype='<U10')\n",
    "markers[np.argwhere(temp==0)] = '*'\n",
    "markers[np.argwhere(temp==1)] = '^'\n",
    "markers[np.argwhere(temp==2)] = 'o'\n",
    "\n",
    "#Now we plot the same PCA plot but with types as kmeans labels:\n",
    "fig, ax = plt.subplots(figsize=(7,7))\n",
    "p1, p2, p3 = False, False, False\n",
    "for i, color in enumerate(cmap):\n",
    "    if color == 'purple':\n",
    "        label = 'Phase 1'\n",
    "    elif color == 'green':\n",
    "        label = 'Phase 2'\n",
    "    elif color == 'blue':\n",
    "        label = 'Phase 3'\n",
    "    if p1 == False and label == 'Phase 1':\n",
    "        p1 = True\n",
    "        plt.scatter(matrix_plot[i,0], matrix_plot[i,1], color = color, label=label, alpha=0.4, marker=markers[i])\n",
    "    elif p2 == False and label == 'Phase 2':\n",
    "        p2 = True\n",
    "        plt.scatter(matrix_plot[i,0], matrix_plot[i,1], color = color, label=label, alpha=0.4, marker=markers[i])\n",
    "    elif p3 == False and label == 'Phase 3':\n",
    "        p3 = True\n",
    "        plt.scatter(matrix_plot[i,0], matrix_plot[i,1], color = color, label=label, alpha=0.4, marker=markers[i])\n",
    "    else:\n",
    "        plt.scatter(matrix_plot[i,0], matrix_plot[i,1], color = color, alpha=0.4, marker=markers[i])\n",
    "fig.legend(loc='lower center', ncol=3, bbox_to_anchor=(0.5, 0))\n",
    "fig.savefig('AA.png', bbox_inches='tight')\n",
    "plt.show()"
   ]
  },
  {
   "cell_type": "markdown",
   "id": "8c99c1f6",
   "metadata": {},
   "source": [
    "# Lets plot some Arche- and Prototypes!"
   ]
  },
  {
   "cell_type": "code",
   "execution_count": 182,
   "id": "54652894",
   "metadata": {},
   "outputs": [
    {
     "data": {
      "image/png": "[encoded data removed]",
      "text/plain": [
       "<Figure size 504x504 with 1 Axes>"
      ]
     },
     "metadata": {
      "needs_background": "light"
     },
     "output_type": "display_data"
    }
   ],
   "source": [
    "cols = list(matrix_for_PCA.columns)\n",
    "fig, ax = plt.subplots(figsize=(7,7))\n",
    "plt.plot(XC[:,0], color = 'purple', label='Archetype 1', alpha=0.3, marker='o', linestyle='None')\n",
    "plt.plot(XC[:,1], color = 'green', label='Archetype 2', alpha=0.3, marker='o',linestyle='None')\n",
    "plt.plot(XC[:,2], color = 'blue', label='Archetype 3', alpha=0.3, marker='o',linestyle='None')\n",
    "ax.set_xticks(range(len(cols)))\n",
    "ax.set_xticklabels(cols, rotation='vertical', fontsize=18)\n",
    "fig.legend(loc='lower center', ncol=3, bbox_to_anchor=(0.5, -0.10))\n",
    "plt.show()"
   ]
  },
  {
   "cell_type": "markdown",
   "id": "15b86577",
   "metadata": {},
   "source": [
    "AA is not really a good measure if you want to keep the scale and see what an archetypal person would answer, however, the relative scale should be intact; a score of 5.01 > 2.32! So we can say that A1 is much more frustrated than A2 and A3 but you can't say how much more! There exists AA for ordinal data, however, it is not in scope of the course https://www.sciencedirect.com/science/article/pii/S002002552100791X.\n",
    "\n",
    "For now we will focus on which assumptions we hold while applying AA to our questionnaire and how this may limit our conclusion."
   ]
  },
  {
   "cell_type": "code",
   "execution_count": 187,
   "id": "306288b3",
   "metadata": {},
   "outputs": [
    {
     "data": {
      "image/png": "[encoded data removed]",
      "text/plain": [
       "<Figure size 504x504 with 1 Axes>"
      ]
     },
     "metadata": {
      "needs_background": "light"
     },
     "output_type": "display_data"
    }
   ],
   "source": [
    "cols = list(matrix_for_PCA.columns)\n",
    "label = np.array(means3.labels_)\n",
    "fig, ax = plt.subplots(figsize=(7,7))\n",
    "plt.plot(np.median(X[np.argwhere(label==0),:].squeeze(1),0), color = 'purple', label='Archetype 1', alpha=0.3, marker='o', linestyle='None')\n",
    "plt.plot(np.median(X[np.argwhere(label==1),:].squeeze(1),0), color = 'green', label='Archetype 2', alpha=0.3, marker='o',linestyle='None')\n",
    "plt.plot(np.median(X[np.argwhere(label==2),:].squeeze(1),0), color = 'blue', label='Archetype 3', alpha=0.3, marker='o',linestyle='None')\n",
    "ax.set_xticks(range(len(cols)))\n",
    "ax.set_xticklabels(cols, rotation='vertical', fontsize=18)\n",
    "fig.legend(loc='lower center', ncol=3, bbox_to_anchor=(0.5, -0.10))\n",
    "plt.show()"
   ]
  },
  {
   "cell_type": "code",
   "execution_count": null,
   "id": "df08b614",
   "metadata": {},
   "outputs": [],
   "source": []
  }
 ],
 "metadata": {
  "kernelspec": {
   "display_name": "Python 3",
   "language": "python",
   "name": "python3"
  },
  "language_info": {
   "codemirror_mode": {
    "name": "ipython",
    "version": 3
   },
   "file_extension": ".py",
   "mimetype": "text/x-python",
   "name": "python",
   "nbconvert_exporter": "python",
   "pygments_lexer": "ipython3",
   "version": "3.8.8"
  }
 },
 "nbformat": 4,
 "nbformat_minor": 5
}
