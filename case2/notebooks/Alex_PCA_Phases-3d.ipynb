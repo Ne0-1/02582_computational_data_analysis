{
 "cells": [
  {
   "cell_type": "code",
   "execution_count": 2,
   "metadata": {
    "collapsed": true,
    "pycharm": {
     "name": "#%%\n"
    }
   },
   "outputs": [],
   "source": [
    "import pandas as pd\n",
    "import numpy as np\n",
    "import matplotlib as mpl\n",
    "import matplotlib.pyplot as plt\n",
    "from pathlib import Path\n",
    "\n",
    "def setup_mpl():\n",
    "    mpl.rcParams['font.family'] = 'Times New Roman'\n",
    "    mpl.rcParams['lines.linewidth'] = 2\n",
    "    return None\n",
    "setup_mpl()\n",
    "\n",
    "data_dict = {}\n",
    "\n",
    "for d in Path('../data/raw/dataset').glob('D1_*'):\n",
    "    d_name = d.name\n",
    "    data_dict[d_name] = {}\n",
    "\n",
    "    for id_ in d.glob('ID_*'):\n",
    "        id_name = id_.name\n",
    "        data_dict[d_name][id_name] = {}\n",
    "\n",
    "        for round_ in id_.glob('round_*'):\n",
    "            round_name = round_.name\n",
    "            data_dict[d_name][id_name][round_name] = {}\n",
    "\n",
    "            for phase in round_.glob('phase*'):\n",
    "                phase_name = phase.name\n",
    "                data_dict[d_name][id_name][round_name][phase_name] = {}\n",
    "\n",
    "                for file in phase.glob('*.csv'):\n",
    "                    if file.name not in ('response.csv',):\n",
    "                        temp_df = pd.read_csv(file, index_col=None)\n",
    "                        temp_df['time'] = pd.to_datetime(temp_df['time'], format='%Y-%m-%d %H:%M:%S.%f')\n",
    "                        temp_df['time_passed'] = (temp_df['time'] - temp_df['time'].iloc[0]).apply(lambda x: x.total_seconds())\n",
    "\n",
    "                        # Save dataframe in nested dictionary\n",
    "                        data_dict[d_name][id_name][round_name][phase_name][file.stem] = temp_df"
   ]
  },
  {
   "cell_type": "code",
   "execution_count": 3,
   "outputs": [],
   "source": [
    "def normalize_std(X):\n",
    "    '''\n",
    "    Function for normalizing the columns (variables) of a data matrix to unit length.\n",
    "    Returns the normalized data and the L2 norm of the variables\n",
    "\n",
    "    Input  (X) --------> The data matrix to be normalized\n",
    "    Output (X_pre)-----> The normalized data matrix\n",
    "    Output (d) --------> Array with the L2 norms of the variables\n",
    "    '''\n",
    "    std = np.std(X,axis=0)  # d is the euclidian lenghts of the variables\n",
    "\n",
    "    X_pre = X / std                       # Normalize the data with the euclidian lengths\n",
    "    return X_pre,d                      # Return normalized data and the euclidian lengths\n"
   ],
   "metadata": {
    "collapsed": false,
    "pycharm": {
     "name": "#%%\n"
    }
   }
  },
  {
   "cell_type": "code",
   "execution_count": 4,
   "outputs": [],
   "source": [
    "min_len_eda = min(len(data_dict[cohort][id][round_][phase]['EDA']['EDA'].tolist()) for cohort in data_dict for id in data_dict[cohort] for round_ in data_dict[cohort][id] for phase in data_dict[cohort][id][round_])\n",
    "\n",
    "merged_cohorts = {\n",
    "    'D1_1': ['D1_1'],\n",
    "    'D1_2': ['D1_2'],\n",
    "    'D1_3': ['D1_3_1', 'D1_3_2', 'D1_3_3', 'D1_3_4']\n",
    "}\n",
    "\n",
    "X = []\n",
    "\n",
    "labels = []\n",
    "\n",
    "\n",
    "for cohort in data_dict.keys():\n",
    "    for id in data_dict[cohort].keys():\n",
    "        for round_ in data_dict[cohort][id].keys():\n",
    "            for phase in data_dict[cohort][id][round_].keys():\n",
    "\n",
    "                eda_ts = data_dict[cohort][id][round_][phase]['EDA'].EDA\n",
    "        # Series differ in length, not sure how we should solve this problem... for now I'll introduce zero-padding...\n",
    "\n",
    "\n",
    "                if len(eda_ts) > min_len_eda:\n",
    "                      eda_ts = eda_ts[:min_len_eda]\n",
    "\n",
    "                labels.append(phase)\n",
    "                X += [eda_ts]\n",
    "\n",
    "labels = np.array(labels)\n",
    "X = np.vstack(X)\n",
    "X_pre = X - np.mean(X,axis=0)\n",
    "X_pre,_ = normalize_std(X_pre)\n",
    "#Vi siger at hvert tidsstep er en feature.\n",
    "#X_pre"
   ],
   "metadata": {
    "collapsed": false,
    "pycharm": {
     "name": "#%%\n"
    }
   }
  },
  {
   "cell_type": "code",
   "execution_count": 5,
   "outputs": [
    {
     "data": {
      "text/plain": "894"
     },
     "execution_count": 5,
     "metadata": {},
     "output_type": "execute_result"
    }
   ],
   "source": [
    "\n",
    "#224 er antal timesteps i en enkelt phase\n",
    "\n",
    "#Det er hver gang en person bliver målt med et armbånd.\n",
    "#Vi får 312 som det samlede antal observationer vi har, nemlig Participants*Cohort*Rounds\n",
    "min_len_eda"
   ],
   "metadata": {
    "collapsed": false,
    "pycharm": {
     "name": "#%%\n"
    }
   }
  },
  {
   "cell_type": "code",
   "execution_count": 6,
   "outputs": [
    {
     "data": {
      "text/plain": "(312, 2)"
     },
     "execution_count": 6,
     "metadata": {},
     "output_type": "execute_result"
    }
   ],
   "source": [
    "from sklearn import decomposition\n",
    "n_components = 2\n",
    "\n",
    "model = decomposition.PCA(n_components=n_components)\n",
    "X_transformed = model.fit_transform(X_pre)\n",
    "\n",
    "#X_hat = np.dot(X_transformed, model.mixing_.T) + model.mean_\n",
    "#L = 0.5*np.linalg.norm(X-X_hat)**2\n",
    "\n",
    "phase1_idx = np.where(labels=='phase1')[0]\n",
    "phase2_idx = np.where(labels=='phase2')[0]\n",
    "phase3_idx = np.where(labels=='phase3')[0]\n",
    "X_transformed.shape\n",
    "#phase1_idx"
   ],
   "metadata": {
    "collapsed": false,
    "pycharm": {
     "name": "#%%\n"
    }
   }
  },
  {
   "cell_type": "code",
   "execution_count": 7,
   "outputs": [
    {
     "data": {
      "text/plain": "<matplotlib.collections.PathCollection at 0x185a3d2ea00>"
     },
     "execution_count": 7,
     "metadata": {},
     "output_type": "execute_result"
    },
    {
     "data": {
      "text/plain": "<Figure size 500x500 with 1 Axes>",
      "image/png": "[encoded data removed]"
     },
     "metadata": {},
     "output_type": "display_data"
    }
   ],
   "source": [
    "#EDA\n",
    "#Vi laver en dimensionalitetsreduktion af signalet ned til 2 dimensioner. Vi regner med at signalet kan beskrives som 2 dimensioner.\n",
    "\n",
    "fig, ax = plt.subplots(figsize=(5,5), dpi=100)\n",
    "\n",
    "ax.scatter(X_transformed[phase1_idx, 0], X_transformed[phase1_idx, 1], s=2)\n",
    "ax.scatter(X_transformed[phase2_idx, 0], X_transformed[phase2_idx, 1], s=2)\n",
    "ax.scatter(X_transformed[phase3_idx, 0], X_transformed[phase3_idx, 1], s=2)\n",
    "\n",
    "#plt.scatter(X_transformed[:,0], , c = 'red')"
   ],
   "metadata": {
    "collapsed": false,
    "pycharm": {
     "name": "#%%\n"
    }
   }
  },
  {
   "cell_type": "code",
   "execution_count": 18,
   "outputs": [
    {
     "data": {
      "text/plain": "(312, 224)"
     },
     "execution_count": 18,
     "metadata": {},
     "output_type": "execute_result"
    }
   ],
   "source": [
    "min_len_hr = min(len(data_dict[cohort][id][round_][phase]['HR']['HR'].tolist()) for cohort in data_dict for id in data_dict[cohort] for round_ in data_dict[cohort][id] for phase in data_dict[cohort][id][round_])\n",
    "\n",
    "merged_cohorts = {\n",
    "    'D1_1': ['D1_1'],\n",
    "    'D1_2': ['D1_2'],\n",
    "    'D1_3': ['D1_3_1', 'D1_3_2', 'D1_3_3', 'D1_3_4']\n",
    "}\n",
    "\n",
    "X = []\n",
    "\n",
    "labels = []\n",
    "\n",
    "\n",
    "for cohort in data_dict.keys():\n",
    "    for id in data_dict[cohort].keys():\n",
    "        for round_ in data_dict[cohort][id].keys():\n",
    "            for phase in data_dict[cohort][id][round_].keys():\n",
    "\n",
    "                hr_ts = data_dict[cohort][id][round_][phase]['HR'].HR\n",
    "        # Series differ in length, not sure how we should solve this problem... for now I'll introduce zero-padding...\n",
    "\n",
    "\n",
    "                if len(hr_ts) > min_len_hr:\n",
    "                      hr_ts = hr_ts[:min_len_hr]\n",
    "\n",
    "                labels.append(phase)\n",
    "                X += [hr_ts]\n",
    "\n",
    "labels = np.array(labels)\n",
    "X = np.vstack(X)\n",
    "X_pre = X - np.mean(X,axis=0)\n",
    "X_pre,_ = normalize_std(X_pre)\n",
    "#Vi siger at hvert tidsstep er en feature.\n",
    "X_pre.shape"
   ],
   "metadata": {
    "collapsed": false,
    "pycharm": {
     "name": "#%%\n"
    }
   }
  },
  {
   "cell_type": "code",
   "execution_count": 19,
   "outputs": [
    {
     "data": {
      "text/plain": "<matplotlib.collections.PathCollection at 0x185a8ebb9d0>"
     },
     "execution_count": 19,
     "metadata": {},
     "output_type": "execute_result"
    },
    {
     "data": {
      "text/plain": "<Figure size 500x500 with 1 Axes>",
      "image/png": "[encoded data removed]"
     },
     "metadata": {},
     "output_type": "display_data"
    }
   ],
   "source": [
    "#HR\n",
    "from sklearn import decomposition\n",
    "n_components = 2\n",
    "\n",
    "model = decomposition.PCA(n_components=n_components)\n",
    "X_transformed = model.fit_transform(X_pre)\n",
    "fig, ax = plt.subplots(figsize=(5,5), dpi=100)\n",
    "\n",
    "ax.scatter(X_transformed[phase1_idx, 0], X_transformed[phase1_idx, 1], s=2)\n",
    "ax.scatter(X_transformed[phase2_idx, 0], X_transformed[phase2_idx, 1], s=2)\n",
    "ax.scatter(X_transformed[phase3_idx, 0], X_transformed[phase3_idx, 1], s=2)"
   ],
   "metadata": {
    "collapsed": false,
    "pycharm": {
     "name": "#%%\n"
    }
   }
  },
  {
   "cell_type": "code",
   "execution_count": 20,
   "outputs": [
    {
     "data": {
      "text/plain": "(312, 894)"
     },
     "execution_count": 20,
     "metadata": {},
     "output_type": "execute_result"
    }
   ],
   "source": [
    "min_len_temp = min(len(data_dict[cohort][id][round_][phase]['TEMP']['TEMP'].tolist()) for cohort in data_dict for id in data_dict[cohort] for round_ in data_dict[cohort][id] for phase in data_dict[cohort][id][round_])\n",
    "\n",
    "merged_cohorts = {\n",
    "    'D1_1': ['D1_1'],\n",
    "    'D1_2': ['D1_2'],\n",
    "    'D1_3': ['D1_3_1', 'D1_3_2', 'D1_3_3', 'D1_3_4']\n",
    "}\n",
    "\n",
    "X = []\n",
    "\n",
    "labels = []\n",
    "\n",
    "\n",
    "for cohort in data_dict.keys():\n",
    "    for id in data_dict[cohort].keys():\n",
    "        for round_ in data_dict[cohort][id].keys():\n",
    "            for phase in data_dict[cohort][id][round_].keys():\n",
    "\n",
    "                temp_ts = data_dict[cohort][id][round_][phase]['TEMP'].TEMP\n",
    "        # Series differ in length, not sure how we should solve this problem... for now I'll introduce zero-padding...\n",
    "\n",
    "\n",
    "                if len(temp_ts) > min_len_temp:\n",
    "                      temp_ts = temp_ts[:min_len_temp]\n",
    "\n",
    "                labels.append(phase)\n",
    "                X += [temp_ts]\n",
    "\n",
    "labels = np.array(labels)\n",
    "X = np.vstack(X)\n",
    "X_pre = X - np.mean(X,axis=0)\n",
    "X_pre,_ = normalize_std(X_pre)\n",
    "#Vi siger at hvert tidsstep er en feature.\n",
    "X_pre.shape"
   ],
   "metadata": {
    "collapsed": false,
    "pycharm": {
     "name": "#%%\n"
    }
   }
  },
  {
   "cell_type": "code",
   "execution_count": 21,
   "outputs": [
    {
     "data": {
      "text/plain": "<matplotlib.collections.PathCollection at 0x185a8f6fcd0>"
     },
     "execution_count": 21,
     "metadata": {},
     "output_type": "execute_result"
    },
    {
     "data": {
      "text/plain": "<Figure size 500x500 with 1 Axes>",
      "image/png": "[encoded data removed]"
     },
     "metadata": {},
     "output_type": "display_data"
    }
   ],
   "source": [
    "#HR\n",
    "from sklearn import decomposition\n",
    "n_components = 2\n",
    "\n",
    "model = decomposition.PCA(n_components=n_components)\n",
    "X_transformed = model.fit_transform(X_pre)\n",
    "fig, ax = plt.subplots(figsize=(5,5), dpi=100)\n",
    "\n",
    "ax.scatter(X_transformed[phase1_idx, 0], X_transformed[phase1_idx, 1], s=2)\n",
    "ax.scatter(X_transformed[phase2_idx, 0], X_transformed[phase2_idx, 1], s=2)\n",
    "ax.scatter(X_transformed[phase3_idx, 0], X_transformed[phase3_idx, 1], s=2)"
   ],
   "metadata": {
    "collapsed": false,
    "pycharm": {
     "name": "#%%\n"
    }
   }
  },
  {
   "cell_type": "code",
   "execution_count": 22,
   "outputs": [
    {
     "data": {
      "text/plain": "(312, 14301)"
     },
     "execution_count": 22,
     "metadata": {},
     "output_type": "execute_result"
    }
   ],
   "source": [
    "min_len_bvp = min(len(data_dict[cohort][id][round_][phase]['BVP']['BVP'].tolist()) for cohort in data_dict for id in data_dict[cohort] for round_ in data_dict[cohort][id] for phase in data_dict[cohort][id][round_])\n",
    "\n",
    "merged_cohorts = {\n",
    "    'D1_1': ['D1_1'],\n",
    "    'D1_2': ['D1_2'],\n",
    "    'D1_3': ['D1_3_1', 'D1_3_2', 'D1_3_3', 'D1_3_4']\n",
    "}\n",
    "\n",
    "X = []\n",
    "\n",
    "labels = []\n",
    "\n",
    "\n",
    "for cohort in data_dict.keys():\n",
    "    for id in data_dict[cohort].keys():\n",
    "        for round_ in data_dict[cohort][id].keys():\n",
    "            for phase in data_dict[cohort][id][round_].keys():\n",
    "\n",
    "                bvp_ts = data_dict[cohort][id][round_][phase]['BVP'].BVP\n",
    "        # Series differ in length, not sure how we should solve this problem... for now I'll introduce zero-padding...\n",
    "\n",
    "\n",
    "                if len(bvp_ts) > min_len_bvp:\n",
    "                      bvp_ts = bvp_ts[:min_len_bvp]\n",
    "\n",
    "                labels.append(phase)\n",
    "                X += [bvp_ts]\n",
    "\n",
    "labels = np.array(labels)\n",
    "X = np.vstack(X)\n",
    "X_pre = X - np.mean(X,axis=0)\n",
    "X_pre,_ = normalize_std(X_pre)\n",
    "#Vi siger at hvert tidsstep er en feature.\n",
    "X_pre.shape"
   ],
   "metadata": {
    "collapsed": false,
    "pycharm": {
     "name": "#%%\n"
    }
   }
  },
  {
   "cell_type": "code",
   "execution_count": 23,
   "outputs": [
    {
     "data": {
      "text/plain": "<matplotlib.collections.PathCollection at 0x185a8dd7bb0>"
     },
     "execution_count": 23,
     "metadata": {},
     "output_type": "execute_result"
    },
    {
     "data": {
      "text/plain": "<Figure size 500x500 with 1 Axes>",
      "image/png": "[encoded data removed]"
     },
     "metadata": {},
     "output_type": "display_data"
    }
   ],
   "source": [
    "#HR\n",
    "from sklearn import decomposition\n",
    "n_components = 2\n",
    "\n",
    "model = decomposition.PCA(n_components=n_components)\n",
    "X_transformed = model.fit_transform(X_pre)\n",
    "fig, ax = plt.subplots(figsize=(5,5), dpi=100)\n",
    "\n",
    "ax.scatter(X_transformed[phase1_idx, 0], X_transformed[phase1_idx, 1], s=2)\n",
    "ax.scatter(X_transformed[phase2_idx, 0], X_transformed[phase2_idx, 1], s=2)\n",
    "ax.scatter(X_transformed[phase3_idx, 0], X_transformed[phase3_idx, 1], s=2)"
   ],
   "metadata": {
    "collapsed": false,
    "pycharm": {
     "name": "#%%\n"
    }
   }
  },
  {
   "cell_type": "code",
   "execution_count": null,
   "outputs": [],
   "source": [],
   "metadata": {
    "collapsed": false,
    "pycharm": {
     "name": "#%%\n"
    }
   }
  }
 ],
 "metadata": {
  "kernelspec": {
   "display_name": "Python 3",
   "language": "python",
   "name": "python3"
  },
  "language_info": {
   "codemirror_mode": {
    "name": "ipython",
    "version": 2
   },
   "file_extension": ".py",
   "mimetype": "text/x-python",
   "name": "python",
   "nbconvert_exporter": "python",
   "pygments_lexer": "ipython2",
   "version": "2.7.6"
  }
 },
 "nbformat": 4,
 "nbformat_minor": 0
}