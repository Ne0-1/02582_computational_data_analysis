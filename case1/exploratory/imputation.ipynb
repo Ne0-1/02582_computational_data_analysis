{
 "cells": [
  {
   "cell_type": "code",
   "execution_count": 1,
   "metadata": {},
   "outputs": [],
   "source": [
    "import pandas as pd\n",
    "import numpy as np\n",
    "import matplotlib as mpl\n",
    "import matplotlib.pyplot as plt"
   ]
  },
  {
   "cell_type": "code",
   "execution_count": 2,
   "metadata": {},
   "outputs": [],
   "source": [
    "def setup_mpl():\n",
    "    mpl.rcParams['font.family'] = 'Times New Roman'\n",
    "    return\n",
    "setup_mpl()"
   ]
  },
  {
   "cell_type": "code",
   "execution_count": 3,
   "metadata": {},
   "outputs": [],
   "source": [
    "def has_numbers(inputString):\n",
    "    return any(char.isdigit() for char in inputString)"
   ]
  },
  {
   "cell_type": "code",
   "execution_count": 4,
   "metadata": {},
   "outputs": [
    {
     "data": {
      "text/html": [
       "<div>\n",
       "<style scoped>\n",
       "    .dataframe tbody tr th:only-of-type {\n",
       "        vertical-align: middle;\n",
       "    }\n",
       "\n",
       "    .dataframe tbody tr th {\n",
       "        vertical-align: top;\n",
       "    }\n",
       "\n",
       "    .dataframe thead th {\n",
       "        text-align: right;\n",
       "    }\n",
       "</style>\n",
       "<table border=\"1\" class=\"dataframe\">\n",
       "  <thead>\n",
       "    <tr style=\"text-align: right;\">\n",
       "      <th></th>\n",
       "      <th>y</th>\n",
       "      <th>x_1</th>\n",
       "      <th>x_2</th>\n",
       "      <th>x_3</th>\n",
       "      <th>x_4</th>\n",
       "      <th>x_5</th>\n",
       "      <th>x_6</th>\n",
       "      <th>x_7</th>\n",
       "      <th>x_8</th>\n",
       "      <th>x_9</th>\n",
       "      <th>...</th>\n",
       "      <th>x_91</th>\n",
       "      <th>x_92</th>\n",
       "      <th>x_93</th>\n",
       "      <th>x_94</th>\n",
       "      <th>x_95</th>\n",
       "      <th>C_1</th>\n",
       "      <th>C_2</th>\n",
       "      <th>C_3</th>\n",
       "      <th>C_4</th>\n",
       "      <th>C_5</th>\n",
       "    </tr>\n",
       "  </thead>\n",
       "  <tbody>\n",
       "    <tr>\n",
       "      <th>0</th>\n",
       "      <td>-6.158895</td>\n",
       "      <td>-7.518161</td>\n",
       "      <td>5.423677</td>\n",
       "      <td>11.810360</td>\n",
       "      <td>-19.076321</td>\n",
       "      <td>-7.018273</td>\n",
       "      <td>23.841339</td>\n",
       "      <td>1.050206</td>\n",
       "      <td>3.132453</td>\n",
       "      <td>4.403462</td>\n",
       "      <td>...</td>\n",
       "      <td>3.692902</td>\n",
       "      <td>12.826477</td>\n",
       "      <td>-6.889479</td>\n",
       "      <td>3.443535</td>\n",
       "      <td>5.400120</td>\n",
       "      <td>I</td>\n",
       "      <td>NaN</td>\n",
       "      <td>H</td>\n",
       "      <td>J</td>\n",
       "      <td>K</td>\n",
       "    </tr>\n",
       "    <tr>\n",
       "      <th>1</th>\n",
       "      <td>-22.200026</td>\n",
       "      <td>-6.370690</td>\n",
       "      <td>7.792366</td>\n",
       "      <td>11.858663</td>\n",
       "      <td>NaN</td>\n",
       "      <td>-15.420530</td>\n",
       "      <td>21.683970</td>\n",
       "      <td>1.057192</td>\n",
       "      <td>2.559764</td>\n",
       "      <td>NaN</td>\n",
       "      <td>...</td>\n",
       "      <td>7.270303</td>\n",
       "      <td>10.039281</td>\n",
       "      <td>-7.678936</td>\n",
       "      <td>-0.189822</td>\n",
       "      <td>0.717526</td>\n",
       "      <td>H</td>\n",
       "      <td>NaN</td>\n",
       "      <td>H</td>\n",
       "      <td>I</td>\n",
       "      <td>I</td>\n",
       "    </tr>\n",
       "    <tr>\n",
       "      <th>2</th>\n",
       "      <td>-19.357551</td>\n",
       "      <td>-4.229569</td>\n",
       "      <td>2.756115</td>\n",
       "      <td>12.446836</td>\n",
       "      <td>-17.567113</td>\n",
       "      <td>-12.984783</td>\n",
       "      <td>NaN</td>\n",
       "      <td>2.484515</td>\n",
       "      <td>NaN</td>\n",
       "      <td>1.852533</td>\n",
       "      <td>...</td>\n",
       "      <td>5.889789</td>\n",
       "      <td>14.186614</td>\n",
       "      <td>-9.527944</td>\n",
       "      <td>0.400832</td>\n",
       "      <td>-2.458897</td>\n",
       "      <td>NaN</td>\n",
       "      <td>I</td>\n",
       "      <td>K</td>\n",
       "      <td>J</td>\n",
       "      <td>G</td>\n",
       "    </tr>\n",
       "    <tr>\n",
       "      <th>3</th>\n",
       "      <td>28.763803</td>\n",
       "      <td>-10.487072</td>\n",
       "      <td>1.460685</td>\n",
       "      <td>9.307533</td>\n",
       "      <td>-21.306282</td>\n",
       "      <td>-19.824912</td>\n",
       "      <td>NaN</td>\n",
       "      <td>-0.442587</td>\n",
       "      <td>0.743039</td>\n",
       "      <td>-0.376102</td>\n",
       "      <td>...</td>\n",
       "      <td>7.024105</td>\n",
       "      <td>8.871258</td>\n",
       "      <td>-7.514400</td>\n",
       "      <td>-3.448892</td>\n",
       "      <td>-2.612379</td>\n",
       "      <td>K</td>\n",
       "      <td>H</td>\n",
       "      <td>I</td>\n",
       "      <td>I</td>\n",
       "      <td>NaN</td>\n",
       "    </tr>\n",
       "    <tr>\n",
       "      <th>4</th>\n",
       "      <td>43.779898</td>\n",
       "      <td>-13.066517</td>\n",
       "      <td>4.812794</td>\n",
       "      <td>10.641948</td>\n",
       "      <td>-17.691825</td>\n",
       "      <td>NaN</td>\n",
       "      <td>19.057921</td>\n",
       "      <td>1.900578</td>\n",
       "      <td>6.133609</td>\n",
       "      <td>-0.771247</td>\n",
       "      <td>...</td>\n",
       "      <td>8.186575</td>\n",
       "      <td>10.532577</td>\n",
       "      <td>-7.509476</td>\n",
       "      <td>NaN</td>\n",
       "      <td>0.754905</td>\n",
       "      <td>H</td>\n",
       "      <td>H</td>\n",
       "      <td>K</td>\n",
       "      <td>J</td>\n",
       "      <td>J</td>\n",
       "    </tr>\n",
       "  </tbody>\n",
       "</table>\n",
       "<p>5 rows × 101 columns</p>\n",
       "</div>"
      ],
      "text/plain": [
       "           y        x_1       x_2        x_3        x_4        x_5        x_6  \\\n",
       "0  -6.158895  -7.518161  5.423677  11.810360 -19.076321  -7.018273  23.841339   \n",
       "1 -22.200026  -6.370690  7.792366  11.858663        NaN -15.420530  21.683970   \n",
       "2 -19.357551  -4.229569  2.756115  12.446836 -17.567113 -12.984783        NaN   \n",
       "3  28.763803 -10.487072  1.460685   9.307533 -21.306282 -19.824912        NaN   \n",
       "4  43.779898 -13.066517  4.812794  10.641948 -17.691825        NaN  19.057921   \n",
       "\n",
       "        x_7       x_8       x_9  ...      x_91       x_92      x_93      x_94  \\\n",
       "0  1.050206  3.132453  4.403462  ...  3.692902  12.826477 -6.889479  3.443535   \n",
       "1  1.057192  2.559764       NaN  ...  7.270303  10.039281 -7.678936 -0.189822   \n",
       "2  2.484515       NaN  1.852533  ...  5.889789  14.186614 -9.527944  0.400832   \n",
       "3 -0.442587  0.743039 -0.376102  ...  7.024105   8.871258 -7.514400 -3.448892   \n",
       "4  1.900578  6.133609 -0.771247  ...  8.186575  10.532577 -7.509476       NaN   \n",
       "\n",
       "       x_95  C_1  C_2  C_3  C_4  C_5  \n",
       "0  5.400120    I  NaN    H    J    K  \n",
       "1  0.717526    H  NaN    H    I    I  \n",
       "2 -2.458897  NaN    I    K    J    G  \n",
       "3 -2.612379    K    H    I    I  NaN  \n",
       "4  0.754905    H    H    K    J    J  \n",
       "\n",
       "[5 rows x 101 columns]"
      ]
     },
     "execution_count": 4,
     "metadata": {},
     "output_type": "execute_result"
    }
   ],
   "source": [
    "df = pd.read_csv('../data/case1Data.txt')\n",
    "df.rename(columns={header: header.replace(' ', '') for header in df.columns}, inplace=True)\n",
    "df.replace(' NaN', np.nan, inplace=True)\n",
    "df.replace(' NaN ', np.nan, inplace=True)\n",
    "df.replace('NaN ', np.nan, inplace=True)\n",
    "df.replace('NaN', np.nan, inplace=True)\n",
    "for header in df.columns:\n",
    "    elements = list(df[header])\n",
    "    status = True\n",
    "    for val in elements:\n",
    "        if not isinstance(val, int) and not isinstance(val, float):\n",
    "            if has_numbers(val) == False:\n",
    "                status = False\n",
    "    if status:\n",
    "        df[header] = df[header].astype('float64') \n",
    "df.head()"
   ]
  },
  {
   "cell_type": "code",
   "execution_count": 5,
   "metadata": {},
   "outputs": [
    {
     "data": {
      "text/plain": [
       "Index(['y', 'x_1', 'x_2', 'x_3', 'x_4', 'x_5', 'x_6', 'x_7', 'x_8', 'x_9',\n",
       "       ...\n",
       "       'x_91', 'x_92', 'x_93', 'x_94', 'x_95', 'C_1', 'C_2', 'C_3', 'C_4',\n",
       "       'C_5'],\n",
       "      dtype='object', length=101)"
      ]
     },
     "execution_count": 5,
     "metadata": {},
     "output_type": "execute_result"
    }
   ],
   "source": [
    "df.columns"
   ]
  },
  {
   "cell_type": "code",
   "execution_count": 90,
   "metadata": {},
   "outputs": [
    {
     "data": {
      "text/plain": [
       "( J    20\n",
       "  G    20\n",
       "  H    18\n",
       "  K    11\n",
       "  I    11\n",
       " Name: C_1, dtype: int64,\n",
       " 100,\n",
       " 20)"
      ]
     },
     "execution_count": 90,
     "metadata": {},
     "output_type": "execute_result"
    }
   ],
   "source": [
    "df.C_1.value_counts(), len(df.C_1), 100 - df.C_1.value_counts().sum()"
   ]
  },
  {
   "cell_type": "code",
   "execution_count": 91,
   "metadata": {},
   "outputs": [
    {
     "data": {
      "text/plain": [
       "( I    54\n",
       "  H    28\n",
       " Name: C_2, dtype: int64,\n",
       " 100,\n",
       " 18)"
      ]
     },
     "execution_count": 91,
     "metadata": {},
     "output_type": "execute_result"
    }
   ],
   "source": [
    "df.C_2.value_counts(), len(df.C_2), 100 - df.C_2.value_counts().sum()"
   ]
  },
  {
   "cell_type": "code",
   "execution_count": 92,
   "metadata": {},
   "outputs": [
    {
     "data": {
      "text/plain": [
       "( I    20\n",
       "  K    18\n",
       "  H    17\n",
       "  J    15\n",
       "  G    10\n",
       " Name: C_3, dtype: int64,\n",
       " 100,\n",
       " 20)"
      ]
     },
     "execution_count": 92,
     "metadata": {},
     "output_type": "execute_result"
    }
   ],
   "source": [
    "df.C_3.value_counts(), len(df.C_3), 100 - df.C_3.value_counts().sum()"
   ]
  },
  {
   "cell_type": "code",
   "execution_count": 93,
   "metadata": {},
   "outputs": [
    {
     "data": {
      "text/plain": [
       "( I    24\n",
       "  J    18\n",
       "  H    17\n",
       "  K    15\n",
       "  G    14\n",
       " Name: C_4, dtype: int64,\n",
       " 100,\n",
       " 12)"
      ]
     },
     "execution_count": 93,
     "metadata": {},
     "output_type": "execute_result"
    }
   ],
   "source": [
    "df.C_4.value_counts(), len(df.C_4), 100 - df.C_4.value_counts().sum()"
   ]
  },
  {
   "cell_type": "code",
   "execution_count": 94,
   "metadata": {},
   "outputs": [
    {
     "data": {
      "text/plain": [
       "( H    23\n",
       "  K    19\n",
       "  J    18\n",
       "  G    16\n",
       "  I    11\n",
       " Name: C_5, dtype: int64,\n",
       " 100,\n",
       " 13)"
      ]
     },
     "execution_count": 94,
     "metadata": {},
     "output_type": "execute_result"
    }
   ],
   "source": [
    "df.C_5.value_counts(), len(df.C_5), 100 - df.C_5.value_counts().sum()"
   ]
  },
  {
   "attachments": {},
   "cell_type": "markdown",
   "metadata": {},
   "source": [
    "# Chi-square test"
   ]
  },
  {
   "cell_type": "code",
   "execution_count": 95,
   "metadata": {},
   "outputs": [
    {
     "data": {
      "text/plain": [
       "y      float64\n",
       "x_1    float64\n",
       "x_2    float64\n",
       "x_3    float64\n",
       "x_4    float64\n",
       "        ...   \n",
       "C_1     object\n",
       "C_2     object\n",
       "C_3     object\n",
       "C_4     object\n",
       "C_5     object\n",
       "Length: 101, dtype: object"
      ]
     },
     "execution_count": 95,
     "metadata": {},
     "output_type": "execute_result"
    }
   ],
   "source": [
    "df.dtypes"
   ]
  },
  {
   "cell_type": "code",
   "execution_count": 6,
   "metadata": {},
   "outputs": [
    {
     "data": {
      "text/html": [
       "<div>\n",
       "<style scoped>\n",
       "    .dataframe tbody tr th:only-of-type {\n",
       "        vertical-align: middle;\n",
       "    }\n",
       "\n",
       "    .dataframe tbody tr th {\n",
       "        vertical-align: top;\n",
       "    }\n",
       "\n",
       "    .dataframe thead th {\n",
       "        text-align: right;\n",
       "    }\n",
       "</style>\n",
       "<table border=\"1\" class=\"dataframe\">\n",
       "  <thead>\n",
       "    <tr style=\"text-align: right;\">\n",
       "      <th></th>\n",
       "      <th>C_1</th>\n",
       "      <th>C_2</th>\n",
       "      <th>C_3</th>\n",
       "      <th>C_4</th>\n",
       "      <th>C_5</th>\n",
       "    </tr>\n",
       "  </thead>\n",
       "  <tbody>\n",
       "    <tr>\n",
       "      <th>0</th>\n",
       "      <td>I</td>\n",
       "      <td>NaN</td>\n",
       "      <td>H</td>\n",
       "      <td>J</td>\n",
       "      <td>K</td>\n",
       "    </tr>\n",
       "    <tr>\n",
       "      <th>1</th>\n",
       "      <td>H</td>\n",
       "      <td>NaN</td>\n",
       "      <td>H</td>\n",
       "      <td>I</td>\n",
       "      <td>I</td>\n",
       "    </tr>\n",
       "    <tr>\n",
       "      <th>2</th>\n",
       "      <td>NaN</td>\n",
       "      <td>I</td>\n",
       "      <td>K</td>\n",
       "      <td>J</td>\n",
       "      <td>G</td>\n",
       "    </tr>\n",
       "    <tr>\n",
       "      <th>3</th>\n",
       "      <td>K</td>\n",
       "      <td>H</td>\n",
       "      <td>I</td>\n",
       "      <td>I</td>\n",
       "      <td>NaN</td>\n",
       "    </tr>\n",
       "    <tr>\n",
       "      <th>4</th>\n",
       "      <td>H</td>\n",
       "      <td>H</td>\n",
       "      <td>K</td>\n",
       "      <td>J</td>\n",
       "      <td>J</td>\n",
       "    </tr>\n",
       "  </tbody>\n",
       "</table>\n",
       "</div>"
      ],
      "text/plain": [
       "   C_1  C_2 C_3 C_4  C_5\n",
       "0    I  NaN   H   J    K\n",
       "1    H  NaN   H   I    I\n",
       "2  NaN    I   K   J    G\n",
       "3    K    H   I   I  NaN\n",
       "4    H    H   K   J    J"
      ]
     },
     "execution_count": 6,
     "metadata": {},
     "output_type": "execute_result"
    }
   ],
   "source": [
    "# getting categorical variables\n",
    "df_cat = pd.DataFrame(data = df.dtypes, columns = \n",
    "                                         ['a']).reset_index()\n",
    "cat_var = list(df_cat['index'].loc[df_cat['a'] == 'object'])\n",
    "df_cat = df[cat_var]\n",
    "df_cat.head()"
   ]
  },
  {
   "cell_type": "code",
   "execution_count": 10,
   "metadata": {},
   "outputs": [
    {
     "data": {
      "text/html": [
       "<div>\n",
       "<style scoped>\n",
       "    .dataframe tbody tr th:only-of-type {\n",
       "        vertical-align: middle;\n",
       "    }\n",
       "\n",
       "    .dataframe tbody tr th {\n",
       "        vertical-align: top;\n",
       "    }\n",
       "\n",
       "    .dataframe thead th {\n",
       "        text-align: right;\n",
       "    }\n",
       "</style>\n",
       "<table border=\"1\" class=\"dataframe\">\n",
       "  <thead>\n",
       "    <tr style=\"text-align: right;\">\n",
       "      <th>C_1</th>\n",
       "      <th>G</th>\n",
       "      <th>H</th>\n",
       "      <th>I</th>\n",
       "      <th>J</th>\n",
       "      <th>K</th>\n",
       "    </tr>\n",
       "    <tr>\n",
       "      <th>C_2</th>\n",
       "      <th></th>\n",
       "      <th></th>\n",
       "      <th></th>\n",
       "      <th></th>\n",
       "      <th></th>\n",
       "    </tr>\n",
       "  </thead>\n",
       "  <tbody>\n",
       "    <tr>\n",
       "      <th>H</th>\n",
       "      <td>10</td>\n",
       "      <td>4</td>\n",
       "      <td>2</td>\n",
       "      <td>5</td>\n",
       "      <td>3</td>\n",
       "    </tr>\n",
       "    <tr>\n",
       "      <th>I</th>\n",
       "      <td>9</td>\n",
       "      <td>9</td>\n",
       "      <td>6</td>\n",
       "      <td>11</td>\n",
       "      <td>7</td>\n",
       "    </tr>\n",
       "  </tbody>\n",
       "</table>\n",
       "</div>"
      ],
      "text/plain": [
       "C_1   G   H   I   J   K\n",
       "C_2                    \n",
       " H   10   4   2   5   3\n",
       " I    9   9   6  11   7"
      ]
     },
     "execution_count": 10,
     "metadata": {},
     "output_type": "execute_result"
    }
   ],
   "source": [
    "pd.crosstab(df['C_1'], df['C_2']).T"
   ]
  },
  {
   "cell_type": "code",
   "execution_count": 20,
   "metadata": {},
   "outputs": [
    {
     "data": {
      "text/html": [
       "<div>\n",
       "<style scoped>\n",
       "    .dataframe tbody tr th:only-of-type {\n",
       "        vertical-align: middle;\n",
       "    }\n",
       "\n",
       "    .dataframe tbody tr th {\n",
       "        vertical-align: top;\n",
       "    }\n",
       "\n",
       "    .dataframe thead th {\n",
       "        text-align: right;\n",
       "    }\n",
       "</style>\n",
       "<table border=\"1\" class=\"dataframe\">\n",
       "  <thead>\n",
       "    <tr style=\"text-align: right;\">\n",
       "      <th></th>\n",
       "      <th>y</th>\n",
       "      <th>x_1</th>\n",
       "      <th>x_2</th>\n",
       "      <th>x_3</th>\n",
       "      <th>x_4</th>\n",
       "      <th>x_5</th>\n",
       "      <th>x_6</th>\n",
       "      <th>x_7</th>\n",
       "      <th>x_8</th>\n",
       "      <th>x_9</th>\n",
       "      <th>...</th>\n",
       "      <th>x_91</th>\n",
       "      <th>x_92</th>\n",
       "      <th>x_93</th>\n",
       "      <th>x_94</th>\n",
       "      <th>x_95</th>\n",
       "      <th>C_1</th>\n",
       "      <th>C_2</th>\n",
       "      <th>C_3</th>\n",
       "      <th>C_4</th>\n",
       "      <th>C_5</th>\n",
       "    </tr>\n",
       "  </thead>\n",
       "  <tbody>\n",
       "    <tr>\n",
       "      <th>4</th>\n",
       "      <td>43.779898</td>\n",
       "      <td>-13.066517</td>\n",
       "      <td>4.812794</td>\n",
       "      <td>10.641948</td>\n",
       "      <td>-17.691825</td>\n",
       "      <td>NaN</td>\n",
       "      <td>19.057921</td>\n",
       "      <td>1.900578</td>\n",
       "      <td>6.133609</td>\n",
       "      <td>-0.771247</td>\n",
       "      <td>...</td>\n",
       "      <td>8.186575</td>\n",
       "      <td>10.532577</td>\n",
       "      <td>-7.509476</td>\n",
       "      <td>NaN</td>\n",
       "      <td>0.754905</td>\n",
       "      <td>H</td>\n",
       "      <td>H</td>\n",
       "      <td>K</td>\n",
       "      <td>J</td>\n",
       "      <td>J</td>\n",
       "    </tr>\n",
       "    <tr>\n",
       "      <th>22</th>\n",
       "      <td>43.810140</td>\n",
       "      <td>-11.010295</td>\n",
       "      <td>1.743390</td>\n",
       "      <td>9.420931</td>\n",
       "      <td>-14.400703</td>\n",
       "      <td>NaN</td>\n",
       "      <td>25.537612</td>\n",
       "      <td>3.498127</td>\n",
       "      <td>7.697403</td>\n",
       "      <td>3.697151</td>\n",
       "      <td>...</td>\n",
       "      <td>8.813248</td>\n",
       "      <td>10.053621</td>\n",
       "      <td>-4.932255</td>\n",
       "      <td>NaN</td>\n",
       "      <td>NaN</td>\n",
       "      <td>H</td>\n",
       "      <td>H</td>\n",
       "      <td>H</td>\n",
       "      <td>G</td>\n",
       "      <td>J</td>\n",
       "    </tr>\n",
       "    <tr>\n",
       "      <th>64</th>\n",
       "      <td>35.420900</td>\n",
       "      <td>-12.557371</td>\n",
       "      <td>NaN</td>\n",
       "      <td>7.282246</td>\n",
       "      <td>NaN</td>\n",
       "      <td>-17.409542</td>\n",
       "      <td>21.147511</td>\n",
       "      <td>2.481557</td>\n",
       "      <td>2.670190</td>\n",
       "      <td>0.122570</td>\n",
       "      <td>...</td>\n",
       "      <td>-0.026005</td>\n",
       "      <td>8.095787</td>\n",
       "      <td>-9.136830</td>\n",
       "      <td>0.506049</td>\n",
       "      <td>2.247317</td>\n",
       "      <td>H</td>\n",
       "      <td>H</td>\n",
       "      <td>I</td>\n",
       "      <td>I</td>\n",
       "      <td>J</td>\n",
       "    </tr>\n",
       "    <tr>\n",
       "      <th>70</th>\n",
       "      <td>21.620299</td>\n",
       "      <td>-7.421212</td>\n",
       "      <td>4.721454</td>\n",
       "      <td>10.983090</td>\n",
       "      <td>-18.765915</td>\n",
       "      <td>-14.852324</td>\n",
       "      <td>23.680197</td>\n",
       "      <td>4.277369</td>\n",
       "      <td>4.665428</td>\n",
       "      <td>0.794222</td>\n",
       "      <td>...</td>\n",
       "      <td>13.406027</td>\n",
       "      <td>NaN</td>\n",
       "      <td>-6.670676</td>\n",
       "      <td>NaN</td>\n",
       "      <td>-0.398572</td>\n",
       "      <td>H</td>\n",
       "      <td>H</td>\n",
       "      <td>NaN</td>\n",
       "      <td>I</td>\n",
       "      <td>J</td>\n",
       "    </tr>\n",
       "  </tbody>\n",
       "</table>\n",
       "<p>4 rows × 101 columns</p>\n",
       "</div>"
      ],
      "text/plain": [
       "            y        x_1       x_2        x_3        x_4        x_5  \\\n",
       "4   43.779898 -13.066517  4.812794  10.641948 -17.691825        NaN   \n",
       "22  43.810140 -11.010295  1.743390   9.420931 -14.400703        NaN   \n",
       "64  35.420900 -12.557371       NaN   7.282246        NaN -17.409542   \n",
       "70  21.620299  -7.421212  4.721454  10.983090 -18.765915 -14.852324   \n",
       "\n",
       "          x_6       x_7       x_8       x_9  ...       x_91       x_92  \\\n",
       "4   19.057921  1.900578  6.133609 -0.771247  ...   8.186575  10.532577   \n",
       "22  25.537612  3.498127  7.697403  3.697151  ...   8.813248  10.053621   \n",
       "64  21.147511  2.481557  2.670190  0.122570  ...  -0.026005   8.095787   \n",
       "70  23.680197  4.277369  4.665428  0.794222  ...  13.406027        NaN   \n",
       "\n",
       "        x_93      x_94      x_95  C_1  C_2  C_3  C_4  C_5  \n",
       "4  -7.509476       NaN  0.754905    H    H    K    J    J  \n",
       "22 -4.932255       NaN       NaN    H    H    H    G    J  \n",
       "64 -9.136830  0.506049  2.247317    H    H    I    I    J  \n",
       "70 -6.670676       NaN -0.398572    H    H  NaN    I    J  \n",
       "\n",
       "[4 rows x 101 columns]"
      ]
     },
     "execution_count": 20,
     "metadata": {},
     "output_type": "execute_result"
    }
   ],
   "source": [
    "df[(df.C_1==' H')&(df.C_2==' H')]"
   ]
  },
  {
   "cell_type": "code",
   "execution_count": 97,
   "metadata": {},
   "outputs": [],
   "source": [
    "from scipy.stats import chi2_contingency\n",
    "from itertools import combinations"
   ]
  },
  {
   "cell_type": "code",
   "execution_count": 98,
   "metadata": {},
   "outputs": [],
   "source": [
    "pvals = []\n",
    "for (var1, var2) in combinations(cat_var, 2):\n",
    "    chi2, p, dof, ex = chi2_contingency(pd.crosstab(df[var1], df[var2]))\n",
    "    pvals.append((var1, var2, p))"
   ]
  },
  {
   "cell_type": "code",
   "execution_count": 99,
   "metadata": {},
   "outputs": [],
   "source": [
    "k = 10\n",
    "bonferroni_alpha = 0.05/k\n",
    "signf = []\n",
    "chi2_matrix = np.zeros((5,5))\n",
    "for i in range(chi2_matrix.shape[0]):\n",
    "    for j in range(chi2_matrix.shape[1]):\n",
    "        p = chi2_contingency(pd.crosstab(df[cat_var[i]], df[cat_var[j]]))[1]\n",
    "        chi2_matrix[i,j] = p\n",
    "        if p < bonferroni_alpha and i != j:\n",
    "            signf.append((i, j))"
   ]
  },
  {
   "cell_type": "code",
   "execution_count": 100,
   "metadata": {},
   "outputs": [
    {
     "data": {
      "text/plain": [
       "[]"
      ]
     },
     "execution_count": 100,
     "metadata": {},
     "output_type": "execute_result"
    }
   ],
   "source": [
    "signf"
   ]
  },
  {
   "cell_type": "code",
   "execution_count": 101,
   "metadata": {},
   "outputs": [],
   "source": [
    "import seaborn as sns\n",
    "from matplotlib.patches import Rectangle"
   ]
  },
  {
   "cell_type": "code",
   "execution_count": 102,
   "metadata": {},
   "outputs": [
    {
     "data": {
      "image/png": "[encoded data removed]",
      "text/plain": [
       "<Figure size 600x400 with 2 Axes>"
      ]
     },
     "metadata": {
      "needs_background": "light"
     },
     "output_type": "display_data"
    }
   ],
   "source": [
    "fig, ax = plt.subplots(dpi=100)\n",
    "sns.heatmap(chi2_matrix, xticklabels=cat_var, yticklabels=cat_var, ax = ax, cbar_kws={'label': 'p-value'})\n",
    "#ax.add_patch(Rectangle(signf[0], 1, 1, fill=False, edgecolor='blue', lw=3))\n",
    "plt.savefig('chi2_heatmap.png', dpi=100)\n",
    "plt.show()"
   ]
  },
  {
   "cell_type": "code",
   "execution_count": 103,
   "metadata": {},
   "outputs": [
    {
     "data": {
      "text/plain": [
       "(320.0,\n",
       " 1.8138137089532896e-58,\n",
       " 16,\n",
       " array([[5.    , 4.5   , 2.75  , 5.    , 2.75  ],\n",
       "        [4.5   , 4.05  , 2.475 , 4.5   , 2.475 ],\n",
       "        [2.75  , 2.475 , 1.5125, 2.75  , 1.5125],\n",
       "        [5.    , 4.5   , 2.75  , 5.    , 2.75  ],\n",
       "        [2.75  , 2.475 , 1.5125, 2.75  , 1.5125]]))"
      ]
     },
     "execution_count": 103,
     "metadata": {},
     "output_type": "execute_result"
    }
   ],
   "source": [
    "chi2_contingency(pd.crosstab(df[cat_var[0]], df[cat_var[0]]))"
   ]
  },
  {
   "attachments": {},
   "cell_type": "markdown",
   "metadata": {},
   "source": [
    "## KNN imputation"
   ]
  },
  {
   "cell_type": "code",
   "execution_count": 104,
   "metadata": {},
   "outputs": [
    {
     "data": {
      "text/html": [
       "<div>\n",
       "<style scoped>\n",
       "    .dataframe tbody tr th:only-of-type {\n",
       "        vertical-align: middle;\n",
       "    }\n",
       "\n",
       "    .dataframe tbody tr th {\n",
       "        vertical-align: top;\n",
       "    }\n",
       "\n",
       "    .dataframe thead th {\n",
       "        text-align: right;\n",
       "    }\n",
       "</style>\n",
       "<table border=\"1\" class=\"dataframe\">\n",
       "  <thead>\n",
       "    <tr style=\"text-align: right;\">\n",
       "      <th></th>\n",
       "      <th>y</th>\n",
       "      <th>x_1</th>\n",
       "      <th>x_2</th>\n",
       "      <th>x_3</th>\n",
       "      <th>x_4</th>\n",
       "      <th>x_5</th>\n",
       "      <th>x_6</th>\n",
       "      <th>x_7</th>\n",
       "      <th>x_8</th>\n",
       "      <th>x_9</th>\n",
       "      <th>...</th>\n",
       "      <th>x_91</th>\n",
       "      <th>x_92</th>\n",
       "      <th>x_93</th>\n",
       "      <th>x_94</th>\n",
       "      <th>x_95</th>\n",
       "      <th>C_1</th>\n",
       "      <th>C_2</th>\n",
       "      <th>C_3</th>\n",
       "      <th>C_4</th>\n",
       "      <th>C_5</th>\n",
       "    </tr>\n",
       "  </thead>\n",
       "  <tbody>\n",
       "    <tr>\n",
       "      <th>0</th>\n",
       "      <td>-6.158895</td>\n",
       "      <td>-7.518161</td>\n",
       "      <td>5.423677</td>\n",
       "      <td>11.810360</td>\n",
       "      <td>-19.076321</td>\n",
       "      <td>-7.018273</td>\n",
       "      <td>23.841339</td>\n",
       "      <td>1.050206</td>\n",
       "      <td>3.132453</td>\n",
       "      <td>4.403462</td>\n",
       "      <td>...</td>\n",
       "      <td>3.692902</td>\n",
       "      <td>12.826477</td>\n",
       "      <td>-6.889479</td>\n",
       "      <td>3.443535</td>\n",
       "      <td>5.400120</td>\n",
       "      <td>I</td>\n",
       "      <td>NaN</td>\n",
       "      <td>H</td>\n",
       "      <td>J</td>\n",
       "      <td>K</td>\n",
       "    </tr>\n",
       "    <tr>\n",
       "      <th>1</th>\n",
       "      <td>-22.200026</td>\n",
       "      <td>-6.370690</td>\n",
       "      <td>7.792366</td>\n",
       "      <td>11.858663</td>\n",
       "      <td>NaN</td>\n",
       "      <td>-15.420530</td>\n",
       "      <td>21.683970</td>\n",
       "      <td>1.057192</td>\n",
       "      <td>2.559764</td>\n",
       "      <td>NaN</td>\n",
       "      <td>...</td>\n",
       "      <td>7.270303</td>\n",
       "      <td>10.039281</td>\n",
       "      <td>-7.678936</td>\n",
       "      <td>-0.189822</td>\n",
       "      <td>0.717526</td>\n",
       "      <td>H</td>\n",
       "      <td>NaN</td>\n",
       "      <td>H</td>\n",
       "      <td>I</td>\n",
       "      <td>I</td>\n",
       "    </tr>\n",
       "    <tr>\n",
       "      <th>2</th>\n",
       "      <td>-19.357551</td>\n",
       "      <td>-4.229569</td>\n",
       "      <td>2.756115</td>\n",
       "      <td>12.446836</td>\n",
       "      <td>-17.567113</td>\n",
       "      <td>-12.984783</td>\n",
       "      <td>NaN</td>\n",
       "      <td>2.484515</td>\n",
       "      <td>NaN</td>\n",
       "      <td>1.852533</td>\n",
       "      <td>...</td>\n",
       "      <td>5.889789</td>\n",
       "      <td>14.186614</td>\n",
       "      <td>-9.527944</td>\n",
       "      <td>0.400832</td>\n",
       "      <td>-2.458897</td>\n",
       "      <td>NaN</td>\n",
       "      <td>I</td>\n",
       "      <td>K</td>\n",
       "      <td>J</td>\n",
       "      <td>G</td>\n",
       "    </tr>\n",
       "    <tr>\n",
       "      <th>3</th>\n",
       "      <td>28.763803</td>\n",
       "      <td>-10.487072</td>\n",
       "      <td>1.460685</td>\n",
       "      <td>9.307533</td>\n",
       "      <td>-21.306282</td>\n",
       "      <td>-19.824912</td>\n",
       "      <td>NaN</td>\n",
       "      <td>-0.442587</td>\n",
       "      <td>0.743039</td>\n",
       "      <td>-0.376102</td>\n",
       "      <td>...</td>\n",
       "      <td>7.024105</td>\n",
       "      <td>8.871258</td>\n",
       "      <td>-7.514400</td>\n",
       "      <td>-3.448892</td>\n",
       "      <td>-2.612379</td>\n",
       "      <td>K</td>\n",
       "      <td>H</td>\n",
       "      <td>I</td>\n",
       "      <td>I</td>\n",
       "      <td>NaN</td>\n",
       "    </tr>\n",
       "    <tr>\n",
       "      <th>4</th>\n",
       "      <td>43.779898</td>\n",
       "      <td>-13.066517</td>\n",
       "      <td>4.812794</td>\n",
       "      <td>10.641948</td>\n",
       "      <td>-17.691825</td>\n",
       "      <td>NaN</td>\n",
       "      <td>19.057921</td>\n",
       "      <td>1.900578</td>\n",
       "      <td>6.133609</td>\n",
       "      <td>-0.771247</td>\n",
       "      <td>...</td>\n",
       "      <td>8.186575</td>\n",
       "      <td>10.532577</td>\n",
       "      <td>-7.509476</td>\n",
       "      <td>NaN</td>\n",
       "      <td>0.754905</td>\n",
       "      <td>H</td>\n",
       "      <td>H</td>\n",
       "      <td>K</td>\n",
       "      <td>J</td>\n",
       "      <td>J</td>\n",
       "    </tr>\n",
       "  </tbody>\n",
       "</table>\n",
       "<p>5 rows × 101 columns</p>\n",
       "</div>"
      ],
      "text/plain": [
       "           y        x_1       x_2        x_3        x_4        x_5        x_6  \\\n",
       "0  -6.158895  -7.518161  5.423677  11.810360 -19.076321  -7.018273  23.841339   \n",
       "1 -22.200026  -6.370690  7.792366  11.858663        NaN -15.420530  21.683970   \n",
       "2 -19.357551  -4.229569  2.756115  12.446836 -17.567113 -12.984783        NaN   \n",
       "3  28.763803 -10.487072  1.460685   9.307533 -21.306282 -19.824912        NaN   \n",
       "4  43.779898 -13.066517  4.812794  10.641948 -17.691825        NaN  19.057921   \n",
       "\n",
       "        x_7       x_8       x_9  ...      x_91       x_92      x_93      x_94  \\\n",
       "0  1.050206  3.132453  4.403462  ...  3.692902  12.826477 -6.889479  3.443535   \n",
       "1  1.057192  2.559764       NaN  ...  7.270303  10.039281 -7.678936 -0.189822   \n",
       "2  2.484515       NaN  1.852533  ...  5.889789  14.186614 -9.527944  0.400832   \n",
       "3 -0.442587  0.743039 -0.376102  ...  7.024105   8.871258 -7.514400 -3.448892   \n",
       "4  1.900578  6.133609 -0.771247  ...  8.186575  10.532577 -7.509476       NaN   \n",
       "\n",
       "       x_95  C_1  C_2  C_3  C_4  C_5  \n",
       "0  5.400120    I  NaN    H    J    K  \n",
       "1  0.717526    H  NaN    H    I    I  \n",
       "2 -2.458897  NaN    I    K    J    G  \n",
       "3 -2.612379    K    H    I    I  NaN  \n",
       "4  0.754905    H    H    K    J    J  \n",
       "\n",
       "[5 rows x 101 columns]"
      ]
     },
     "execution_count": 104,
     "metadata": {},
     "output_type": "execute_result"
    }
   ],
   "source": [
    "df.head()"
   ]
  },
  {
   "cell_type": "code",
   "execution_count": 105,
   "metadata": {},
   "outputs": [],
   "source": [
    "feature_matrix = df.drop('y', axis=1)\n",
    "response_variable = df['y'].values"
   ]
  },
  {
   "cell_type": "code",
   "execution_count": 123,
   "metadata": {},
   "outputs": [
    {
     "data": {
      "text/html": [
       "<div>\n",
       "<style scoped>\n",
       "    .dataframe tbody tr th:only-of-type {\n",
       "        vertical-align: middle;\n",
       "    }\n",
       "\n",
       "    .dataframe tbody tr th {\n",
       "        vertical-align: top;\n",
       "    }\n",
       "\n",
       "    .dataframe thead th {\n",
       "        text-align: right;\n",
       "    }\n",
       "</style>\n",
       "<table border=\"1\" class=\"dataframe\">\n",
       "  <thead>\n",
       "    <tr style=\"text-align: right;\">\n",
       "      <th></th>\n",
       "      <th>x_1</th>\n",
       "      <th>x_2</th>\n",
       "      <th>x_3</th>\n",
       "      <th>x_4</th>\n",
       "      <th>x_5</th>\n",
       "      <th>x_6</th>\n",
       "      <th>x_7</th>\n",
       "      <th>x_8</th>\n",
       "      <th>x_9</th>\n",
       "      <th>x_10</th>\n",
       "      <th>...</th>\n",
       "      <th>x_91</th>\n",
       "      <th>x_92</th>\n",
       "      <th>x_93</th>\n",
       "      <th>x_94</th>\n",
       "      <th>x_95</th>\n",
       "      <th>C_1</th>\n",
       "      <th>C_2</th>\n",
       "      <th>C_3</th>\n",
       "      <th>C_4</th>\n",
       "      <th>C_5</th>\n",
       "    </tr>\n",
       "  </thead>\n",
       "  <tbody>\n",
       "    <tr>\n",
       "      <th>0</th>\n",
       "      <td>-7.518161</td>\n",
       "      <td>5.423677</td>\n",
       "      <td>11.810360</td>\n",
       "      <td>-19.076321</td>\n",
       "      <td>-7.018273</td>\n",
       "      <td>23.841339</td>\n",
       "      <td>1.050206</td>\n",
       "      <td>3.132453</td>\n",
       "      <td>4.403462</td>\n",
       "      <td>NaN</td>\n",
       "      <td>...</td>\n",
       "      <td>3.692902</td>\n",
       "      <td>12.826477</td>\n",
       "      <td>-6.889479</td>\n",
       "      <td>3.443535</td>\n",
       "      <td>5.400120</td>\n",
       "      <td>I</td>\n",
       "      <td>NaN</td>\n",
       "      <td>H</td>\n",
       "      <td>J</td>\n",
       "      <td>K</td>\n",
       "    </tr>\n",
       "    <tr>\n",
       "      <th>1</th>\n",
       "      <td>-6.370690</td>\n",
       "      <td>7.792366</td>\n",
       "      <td>11.858663</td>\n",
       "      <td>NaN</td>\n",
       "      <td>-15.420530</td>\n",
       "      <td>21.683970</td>\n",
       "      <td>1.057192</td>\n",
       "      <td>2.559764</td>\n",
       "      <td>NaN</td>\n",
       "      <td>-4.286417</td>\n",
       "      <td>...</td>\n",
       "      <td>7.270303</td>\n",
       "      <td>10.039281</td>\n",
       "      <td>-7.678936</td>\n",
       "      <td>-0.189822</td>\n",
       "      <td>0.717526</td>\n",
       "      <td>H</td>\n",
       "      <td>NaN</td>\n",
       "      <td>H</td>\n",
       "      <td>I</td>\n",
       "      <td>I</td>\n",
       "    </tr>\n",
       "    <tr>\n",
       "      <th>2</th>\n",
       "      <td>-4.229569</td>\n",
       "      <td>2.756115</td>\n",
       "      <td>12.446836</td>\n",
       "      <td>-17.567113</td>\n",
       "      <td>-12.984783</td>\n",
       "      <td>NaN</td>\n",
       "      <td>2.484515</td>\n",
       "      <td>NaN</td>\n",
       "      <td>1.852533</td>\n",
       "      <td>NaN</td>\n",
       "      <td>...</td>\n",
       "      <td>5.889789</td>\n",
       "      <td>14.186614</td>\n",
       "      <td>-9.527944</td>\n",
       "      <td>0.400832</td>\n",
       "      <td>-2.458897</td>\n",
       "      <td>NaN</td>\n",
       "      <td>I</td>\n",
       "      <td>K</td>\n",
       "      <td>J</td>\n",
       "      <td>G</td>\n",
       "    </tr>\n",
       "    <tr>\n",
       "      <th>3</th>\n",
       "      <td>-10.487072</td>\n",
       "      <td>1.460685</td>\n",
       "      <td>9.307533</td>\n",
       "      <td>-21.306282</td>\n",
       "      <td>-19.824912</td>\n",
       "      <td>NaN</td>\n",
       "      <td>-0.442587</td>\n",
       "      <td>0.743039</td>\n",
       "      <td>-0.376102</td>\n",
       "      <td>-7.535363</td>\n",
       "      <td>...</td>\n",
       "      <td>7.024105</td>\n",
       "      <td>8.871258</td>\n",
       "      <td>-7.514400</td>\n",
       "      <td>-3.448892</td>\n",
       "      <td>-2.612379</td>\n",
       "      <td>K</td>\n",
       "      <td>H</td>\n",
       "      <td>I</td>\n",
       "      <td>I</td>\n",
       "      <td>NaN</td>\n",
       "    </tr>\n",
       "    <tr>\n",
       "      <th>4</th>\n",
       "      <td>-13.066517</td>\n",
       "      <td>4.812794</td>\n",
       "      <td>10.641948</td>\n",
       "      <td>-17.691825</td>\n",
       "      <td>NaN</td>\n",
       "      <td>19.057921</td>\n",
       "      <td>1.900578</td>\n",
       "      <td>6.133609</td>\n",
       "      <td>-0.771247</td>\n",
       "      <td>NaN</td>\n",
       "      <td>...</td>\n",
       "      <td>8.186575</td>\n",
       "      <td>10.532577</td>\n",
       "      <td>-7.509476</td>\n",
       "      <td>NaN</td>\n",
       "      <td>0.754905</td>\n",
       "      <td>H</td>\n",
       "      <td>H</td>\n",
       "      <td>K</td>\n",
       "      <td>J</td>\n",
       "      <td>J</td>\n",
       "    </tr>\n",
       "  </tbody>\n",
       "</table>\n",
       "<p>5 rows × 100 columns</p>\n",
       "</div>"
      ],
      "text/plain": [
       "         x_1       x_2        x_3        x_4        x_5        x_6       x_7  \\\n",
       "0  -7.518161  5.423677  11.810360 -19.076321  -7.018273  23.841339  1.050206   \n",
       "1  -6.370690  7.792366  11.858663        NaN -15.420530  21.683970  1.057192   \n",
       "2  -4.229569  2.756115  12.446836 -17.567113 -12.984783        NaN  2.484515   \n",
       "3 -10.487072  1.460685   9.307533 -21.306282 -19.824912        NaN -0.442587   \n",
       "4 -13.066517  4.812794  10.641948 -17.691825        NaN  19.057921  1.900578   \n",
       "\n",
       "        x_8       x_9      x_10  ...      x_91       x_92      x_93      x_94  \\\n",
       "0  3.132453  4.403462       NaN  ...  3.692902  12.826477 -6.889479  3.443535   \n",
       "1  2.559764       NaN -4.286417  ...  7.270303  10.039281 -7.678936 -0.189822   \n",
       "2       NaN  1.852533       NaN  ...  5.889789  14.186614 -9.527944  0.400832   \n",
       "3  0.743039 -0.376102 -7.535363  ...  7.024105   8.871258 -7.514400 -3.448892   \n",
       "4  6.133609 -0.771247       NaN  ...  8.186575  10.532577 -7.509476       NaN   \n",
       "\n",
       "       x_95  C_1  C_2  C_3  C_4  C_5  \n",
       "0  5.400120    I  NaN    H    J    K  \n",
       "1  0.717526    H  NaN    H    I    I  \n",
       "2 -2.458897  NaN    I    K    J    G  \n",
       "3 -2.612379    K    H    I    I  NaN  \n",
       "4  0.754905    H    H    K    J    J  \n",
       "\n",
       "[5 rows x 100 columns]"
      ]
     },
     "execution_count": 123,
     "metadata": {},
     "output_type": "execute_result"
    }
   ],
   "source": [
    "feature_matrix.head()"
   ]
  },
  {
   "cell_type": "code",
   "execution_count": 124,
   "metadata": {},
   "outputs": [],
   "source": [
    "from sklearn.preprocessing import LabelEncoder"
   ]
  },
  {
   "cell_type": "code",
   "execution_count": 129,
   "metadata": {},
   "outputs": [],
   "source": [
    "cat_vars = ['C_1', 'C_2', 'C_3', 'C_4', 'C_5']\n",
    "\n",
    "feature_matrix_label_enc = feature_matrix[cat_vars].apply(lambda series: pd.Series(\n",
    "    LabelEncoder().fit_transform(series[series.notnull()]),\n",
    "    index=series[series.notnull()].index ))"
   ]
  },
  {
   "cell_type": "code",
   "execution_count": 126,
   "metadata": {},
   "outputs": [
    {
     "data": {
      "text/html": [
       "<div>\n",
       "<style scoped>\n",
       "    .dataframe tbody tr th:only-of-type {\n",
       "        vertical-align: middle;\n",
       "    }\n",
       "\n",
       "    .dataframe tbody tr th {\n",
       "        vertical-align: top;\n",
       "    }\n",
       "\n",
       "    .dataframe thead th {\n",
       "        text-align: right;\n",
       "    }\n",
       "</style>\n",
       "<table border=\"1\" class=\"dataframe\">\n",
       "  <thead>\n",
       "    <tr style=\"text-align: right;\">\n",
       "      <th></th>\n",
       "      <th>C_1</th>\n",
       "      <th>C_2</th>\n",
       "      <th>C_3</th>\n",
       "      <th>C_4</th>\n",
       "      <th>C_5</th>\n",
       "    </tr>\n",
       "  </thead>\n",
       "  <tbody>\n",
       "    <tr>\n",
       "      <th>0</th>\n",
       "      <td>2.0</td>\n",
       "      <td>NaN</td>\n",
       "      <td>1.0</td>\n",
       "      <td>3.0</td>\n",
       "      <td>4.0</td>\n",
       "    </tr>\n",
       "    <tr>\n",
       "      <th>1</th>\n",
       "      <td>1.0</td>\n",
       "      <td>NaN</td>\n",
       "      <td>1.0</td>\n",
       "      <td>2.0</td>\n",
       "      <td>2.0</td>\n",
       "    </tr>\n",
       "    <tr>\n",
       "      <th>2</th>\n",
       "      <td>NaN</td>\n",
       "      <td>1.0</td>\n",
       "      <td>4.0</td>\n",
       "      <td>3.0</td>\n",
       "      <td>0.0</td>\n",
       "    </tr>\n",
       "    <tr>\n",
       "      <th>3</th>\n",
       "      <td>4.0</td>\n",
       "      <td>0.0</td>\n",
       "      <td>2.0</td>\n",
       "      <td>2.0</td>\n",
       "      <td>NaN</td>\n",
       "    </tr>\n",
       "    <tr>\n",
       "      <th>4</th>\n",
       "      <td>1.0</td>\n",
       "      <td>0.0</td>\n",
       "      <td>4.0</td>\n",
       "      <td>3.0</td>\n",
       "      <td>3.0</td>\n",
       "    </tr>\n",
       "  </tbody>\n",
       "</table>\n",
       "</div>"
      ],
      "text/plain": [
       "   C_1  C_2  C_3  C_4  C_5\n",
       "0  2.0  NaN  1.0  3.0  4.0\n",
       "1  1.0  NaN  1.0  2.0  2.0\n",
       "2  NaN  1.0  4.0  3.0  0.0\n",
       "3  4.0  0.0  2.0  2.0  NaN\n",
       "4  1.0  0.0  4.0  3.0  3.0"
      ]
     },
     "execution_count": 126,
     "metadata": {},
     "output_type": "execute_result"
    }
   ],
   "source": [
    "feature_matrix_label_enc.head()"
   ]
  },
  {
   "cell_type": "code",
   "execution_count": 130,
   "metadata": {},
   "outputs": [
    {
     "data": {
      "text/plain": [
       "(         x_1       x_2        x_3        x_4        x_5        x_6       x_7  \\\n",
       " 0  -7.518161  5.423677  11.810360 -19.076321  -7.018273  23.841339  1.050206   \n",
       " 1  -6.370690  7.792366  11.858663        NaN -15.420530  21.683970  1.057192   \n",
       " 2  -4.229569  2.756115  12.446836 -17.567113 -12.984783        NaN  2.484515   \n",
       " 3 -10.487072  1.460685   9.307533 -21.306282 -19.824912        NaN -0.442587   \n",
       " 4 -13.066517  4.812794  10.641948 -17.691825        NaN  19.057921  1.900578   \n",
       " \n",
       "         x_8       x_9      x_10  ...      x_86      x_87      x_88       x_89  \\\n",
       " 0  3.132453  4.403462       NaN  ... -2.590210 -1.943897  3.011972 -31.614019   \n",
       " 1  2.559764       NaN -4.286417  ... -3.573072 -1.583166       NaN -28.880360   \n",
       " 2       NaN  1.852533       NaN  ... -4.023667  2.648645  4.067629 -32.769482   \n",
       " 3  0.743039 -0.376102 -7.535363  ... -4.987491  3.992532  3.954274 -35.846878   \n",
       " 4  6.133609 -0.771247       NaN  ... -4.021144  3.152862  3.366474        NaN   \n",
       " \n",
       "         x_90      x_91       x_92      x_93      x_94      x_95  \n",
       " 0  -3.990017  3.692902  12.826477 -6.889479  3.443535  5.400120  \n",
       " 1  -6.552140  7.270303  10.039281 -7.678936 -0.189822  0.717526  \n",
       " 2  -5.438118  5.889789  14.186614 -9.527944  0.400832 -2.458897  \n",
       " 3 -10.208559  7.024105   8.871258 -7.514400 -3.448892 -2.612379  \n",
       " 4  -3.632849  8.186575  10.532577 -7.509476       NaN  0.754905  \n",
       " \n",
       " [5 rows x 95 columns],\n",
       "    C_1  C_2  C_3  C_4  C_5\n",
       " 0  2.0  NaN  1.0  3.0  4.0\n",
       " 1  1.0  NaN  1.0  2.0  2.0\n",
       " 2  NaN  1.0  4.0  3.0  0.0\n",
       " 3  4.0  0.0  2.0  2.0  NaN\n",
       " 4  1.0  0.0  4.0  3.0  3.0)"
      ]
     },
     "execution_count": 130,
     "metadata": {},
     "output_type": "execute_result"
    }
   ],
   "source": [
    "feature_matrix.drop(cat_vars, axis=1).head(), feature_matrix_label_enc.head()"
   ]
  },
  {
   "cell_type": "code",
   "execution_count": 131,
   "metadata": {},
   "outputs": [],
   "source": [
    "real_feature_matrix = feature_matrix.drop(cat_vars, axis=1)"
   ]
  },
  {
   "cell_type": "code",
   "execution_count": 136,
   "metadata": {},
   "outputs": [],
   "source": [
    "X = np.hstack((real_feature_matrix.values, feature_matrix_label_enc.values))"
   ]
  },
  {
   "cell_type": "code",
   "execution_count": 137,
   "metadata": {},
   "outputs": [],
   "source": [
    "np.savetxt('feature_matrix_test.txt', X)\n",
    "np.savetxt('response_variable_test.txt', response_variable)"
   ]
  },
  {
   "attachments": {},
   "cell_type": "markdown",
   "metadata": {},
   "source": [
    "TODO: clean up"
   ]
  },
  {
   "cell_type": "code",
   "execution_count": null,
   "metadata": {},
   "outputs": [],
   "source": []
  },
  {
   "cell_type": "code",
   "execution_count": 111,
   "metadata": {},
   "outputs": [],
   "source": [
    "from sklearn.preprocessing import OneHotEncoder"
   ]
  },
  {
   "cell_type": "code",
   "execution_count": 116,
   "metadata": {},
   "outputs": [],
   "source": [
    "cat_vars = [95, 97, 98, 99]\n",
    "X_cat = vals[:, cat_vars]\n",
    "enc = OneHotEncoder(handle_unknown='ignore')\n",
    "enc.fit(X_cat)\n",
    "X_cat_encoded = enc.transform(X_cat)\n",
    "X_encoded = np.delete(vals, cat_vars, axis=1)\n",
    "X_encoded = np.hstack((X_encoded, X_cat_encoded.toarray()))"
   ]
  },
  {
   "cell_type": "code",
   "execution_count": 117,
   "metadata": {},
   "outputs": [
    {
     "data": {
      "text/plain": [
       "array([[47., 45., 27., ...,  0.,  1.,  0.],\n",
       "       [61., 71., 28., ...,  0.,  0.,  0.],\n",
       "       [81., 12., 40., ...,  0.,  0.,  0.],\n",
       "       ...,\n",
       "       [ 0.,  5.,  5., ...,  0.,  1.,  0.],\n",
       "       [52.,  9., 33., ...,  0.,  0.,  1.],\n",
       "       [24., 19., 38., ...,  1.,  0.,  0.]])"
      ]
     },
     "execution_count": 117,
     "metadata": {},
     "output_type": "execute_result"
    }
   ],
   "source": [
    "X_encoded"
   ]
  },
  {
   "cell_type": "code",
   "execution_count": 114,
   "metadata": {},
   "outputs": [
    {
     "data": {
      "text/plain": [
       "(100, 100)"
      ]
     },
     "execution_count": 114,
     "metadata": {},
     "output_type": "execute_result"
    }
   ],
   "source": [
    "vals.shape"
   ]
  },
  {
   "cell_type": "code",
   "execution_count": null,
   "metadata": {},
   "outputs": [],
   "source": []
  }
 ],
 "metadata": {
  "kernelspec": {
   "display_name": "Python 3",
   "language": "python",
   "name": "python3"
  },
  "language_info": {
   "codemirror_mode": {
    "name": "ipython",
    "version": 3
   },
   "file_extension": ".py",
   "mimetype": "text/x-python",
   "name": "python",
   "nbconvert_exporter": "python",
   "pygments_lexer": "ipython3",
   "version": "3.8.6"
  },
  "orig_nbformat": 4,
  "vscode": {
   "interpreter": {
    "hash": "082e9a3bcad0a290d0001e938aa60b99250c6c2ef33a923c00b70f9826caf4b7"
   }
  }
 },
 "nbformat": 4,
 "nbformat_minor": 2
}
